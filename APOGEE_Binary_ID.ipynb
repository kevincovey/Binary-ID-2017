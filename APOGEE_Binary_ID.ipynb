{
 "cells": [
  {
   "cell_type": "code",
   "execution_count": 3,
   "metadata": {
    "collapsed": false
   },
   "outputs": [
    {
     "ename": "AttributeError",
     "evalue": "'dict' object has no attribute 'iteritems'",
     "output_type": "error",
     "traceback": [
      "\u001b[0;31m---------------------------------------------------------------------------\u001b[0m",
      "\u001b[0;31mAttributeError\u001b[0m                            Traceback (most recent call last)",
      "\u001b[0;32m<ipython-input-3-c96b5fce72aa>\u001b[0m in \u001b[0;36m<module>\u001b[0;34m()\u001b[0m\n\u001b[1;32m      4\u001b[0m \u001b[0;32mimport\u001b[0m \u001b[0mpandas\u001b[0m \u001b[0;32mas\u001b[0m \u001b[0mpd\u001b[0m\u001b[0;34m\u001b[0m\u001b[0m\n\u001b[1;32m      5\u001b[0m \u001b[0;32mimport\u001b[0m \u001b[0mcsv\u001b[0m\u001b[0;34m\u001b[0m\u001b[0m\n\u001b[0;32m----> 6\u001b[0;31m \u001b[0;32mfrom\u001b[0m \u001b[0mapogee\u001b[0m\u001b[0;34m.\u001b[0m\u001b[0mtools\u001b[0m \u001b[0;32mimport\u001b[0m \u001b[0mbitmask\u001b[0m\u001b[0;34m\u001b[0m\u001b[0m\n\u001b[0m\u001b[1;32m      7\u001b[0m \u001b[0;32mimport\u001b[0m \u001b[0mmath\u001b[0m\u001b[0;34m\u001b[0m\u001b[0m\n\u001b[1;32m      8\u001b[0m \u001b[0;34m\u001b[0m\u001b[0m\n",
      "\u001b[0;32m//anaconda/lib/python3.5/site-packages/apogee-1.-py3.5.egg/apogee/tools/bitmask.py\u001b[0m in \u001b[0;36m<module>\u001b[0;34m()\u001b[0m\n\u001b[1;32m     64\u001b[0m                 \u001b[0;36m13\u001b[0m\u001b[0;34m:\u001b[0m\u001b[0;34m\"SIG_TELLURIC\"\u001b[0m\u001b[0;34m,\u001b[0m\u001b[0;34m\u001b[0m\u001b[0m\n\u001b[1;32m     65\u001b[0m                 14:\"NOT_ENOUGH_PSF\"}\n\u001b[0;32m---> 66\u001b[0;31m \u001b[0mAPOGEE_TARGET1_STR\u001b[0m\u001b[0;34m=\u001b[0m \u001b[0mdict\u001b[0m\u001b[0;34m(\u001b[0m\u001b[0;34m(\u001b[0m\u001b[0mvalue\u001b[0m\u001b[0;34m,\u001b[0m \u001b[0mkey\u001b[0m\u001b[0;34m)\u001b[0m \u001b[0;32mfor\u001b[0m \u001b[0mkey\u001b[0m\u001b[0;34m,\u001b[0m \u001b[0mvalue\u001b[0m \u001b[0;32min\u001b[0m \u001b[0mAPOGEE_TARGET1\u001b[0m\u001b[0;34m.\u001b[0m\u001b[0miteritems\u001b[0m\u001b[0;34m(\u001b[0m\u001b[0;34m)\u001b[0m\u001b[0;34m)\u001b[0m\u001b[0;34m\u001b[0m\u001b[0m\n\u001b[0m\u001b[1;32m     67\u001b[0m \u001b[0mAPOGEE_TARGET2_STR\u001b[0m\u001b[0;34m=\u001b[0m \u001b[0mdict\u001b[0m\u001b[0;34m(\u001b[0m\u001b[0;34m(\u001b[0m\u001b[0mvalue\u001b[0m\u001b[0;34m,\u001b[0m \u001b[0mkey\u001b[0m\u001b[0;34m)\u001b[0m \u001b[0;32mfor\u001b[0m \u001b[0mkey\u001b[0m\u001b[0;34m,\u001b[0m \u001b[0mvalue\u001b[0m \u001b[0;32min\u001b[0m \u001b[0mAPOGEE_TARGET2\u001b[0m\u001b[0;34m.\u001b[0m\u001b[0miteritems\u001b[0m\u001b[0;34m(\u001b[0m\u001b[0;34m)\u001b[0m\u001b[0;34m)\u001b[0m\u001b[0;34m\u001b[0m\u001b[0m\n\u001b[1;32m     68\u001b[0m \u001b[0mAPOGEE_PIXMASK_STR\u001b[0m\u001b[0;34m=\u001b[0m \u001b[0mdict\u001b[0m\u001b[0;34m(\u001b[0m\u001b[0;34m(\u001b[0m\u001b[0mvalue\u001b[0m\u001b[0;34m,\u001b[0m \u001b[0mkey\u001b[0m\u001b[0;34m)\u001b[0m \u001b[0;32mfor\u001b[0m \u001b[0mkey\u001b[0m\u001b[0;34m,\u001b[0m \u001b[0mvalue\u001b[0m \u001b[0;32min\u001b[0m \u001b[0mAPOGEE_PIXMASK\u001b[0m\u001b[0;34m.\u001b[0m\u001b[0miteritems\u001b[0m\u001b[0;34m(\u001b[0m\u001b[0;34m)\u001b[0m\u001b[0;34m)\u001b[0m\u001b[0;34m\u001b[0m\u001b[0m\n",
      "\u001b[0;31mAttributeError\u001b[0m: 'dict' object has no attribute 'iteritems'"
     ]
    }
   ],
   "source": [
    "import numpy as np\n",
    "import apogee.tools.read as apread\n",
    "from matplotlib import pyplot as plt\n",
    "import pandas as pd\n",
    "import csv\n",
    "from apogee.tools import bitmask\n",
    "import math\n",
    "\n",
    "### Even Trivially-er edit ###"
   ]
  },
  {
   "cell_type": "code",
   "execution_count": null,
   "metadata": {
    "collapsed": true
   },
   "outputs": [],
   "source": [
    "#Calculate R-Values for given ranges\n",
    "def calcR401(x, pos1=0, pos2=401):\n",
    "        # Calculates the value of R with the given array x\n",
    "        # Returns:  The value of R for whole CCF\n",
    "        # Assupmtion: the center peak lies in CCF lag space 201\n",
    "        ccfCenter = 201\n",
    "        pos1+= 1\n",
    "        Mirror = (x[ccfCenter:pos2])[::-1]\n",
    "        sigmaA = np.sqrt(1.0 / (2.0 * len(Mirror)) * np.sum((x[pos1:ccfCenter] - Mirror)**2))\n",
    "        r401 = np.max(x) / (np.sqrt(2.0) * sigmaA)\n",
    "        #print('R401 = '+str(r401))\n",
    "        return r401\n",
    "\n",
    "def calcR151(x, pos1=125, pos2=276):\n",
    "        ccfCenter = 201\n",
    "        pos1+= 1\n",
    "        Mirror = (x[ccfCenter:pos2])[::-1]\n",
    "        sigmaA = np.sqrt(1.0 / (2.0 * len(Mirror)) * np.sum((x[pos1:ccfCenter] - Mirror)**2))\n",
    "        r151 = np.max(x) / (np.sqrt(2.0) * sigmaA)\n",
    "        #print('R151 = '+str(r151))\n",
    "        return r151\n",
    "\n",
    "def calcR101(x, pos1=150, pos2=251):\n",
    "        ccfCenter = 201\n",
    "        pos1+= 1\n",
    "        Mirror = (x[ccfCenter:pos2])[::-1]\n",
    "        sigmaA = np.sqrt(1.0 / (2.0 * len(Mirror)) * np.sum((x[pos1:ccfCenter] - Mirror)**2))\n",
    "        r101 = np.max(x) / (np.sqrt(2.0) * sigmaA)\n",
    "        #print('R101 = '+str(r101))\n",
    "        return r101\n",
    "    \n",
    "def calcR51(x, pos1=175, pos2=226):\n",
    "        ccfCenter = 201\n",
    "        pos1+= 1\n",
    "        Mirror = (x[ccfCenter:pos2])[::-1]\n",
    "        sigmaA = np.sqrt(1.0 / (2.0 * len(Mirror)) * np.sum((x[pos1:ccfCenter] - Mirror)**2))\n",
    "        r51 = np.max(x) / (np.sqrt(2.0) * sigmaA)\n",
    "        #print('R51 = '+str(r51))\n",
    "        return r51"
   ]
  },
  {
   "cell_type": "code",
   "execution_count": 3,
   "metadata": {
    "collapsed": true
   },
   "outputs": [],
   "source": [
    "def bisector(xccf,yccf):\n",
    "    height = max(yccf) - min(yccf)\n",
    "    slices = height/4.0\n",
    "    bounds = np.arange(min(yccf),height,slices)\n",
    "    if len(bounds) != 0:\n",
    "        z1 = (bounds[0] + bounds[1])/2.0\n",
    "        z2 = (bounds[1] + bounds[2])/2.0\n",
    "        z3 = (bounds[2] + bounds[3])/2.0\n",
    "        z4 = (bounds[3] + bounds[4])/2.0\n",
    "        y_bisector = np.array([z1,z2,z3,z4])\n",
    "\n",
    "        x_bisector = []\n",
    "        x0 = []\n",
    "        x1 = []\n",
    "        x2 = []\n",
    "        x3 = []\n",
    "        for i in range(len(yccf)):\n",
    "            if yccf[i] <= bounds[4] and yccf[i] > bounds[3]:\n",
    "                x0.append(xccf[i])\n",
    "        x_0 = (np.mean(x0))\n",
    "        x_bisector.append(x_0)\n",
    "\n",
    "        i = 0\n",
    "        for i in range(len(yccf)):\n",
    "            if yccf[i] <= bounds[3] and yccf[i] >= bounds[2]:\n",
    "                x1.append(xccf[i])\n",
    "        x_1=(np.mean(x1))\n",
    "        x_bisector.append(x_1)\n",
    "\n",
    "        i = 0\n",
    "        for i in range(len(yccf)):\n",
    "            if yccf[i] <= bounds[2] and yccf[i] >= bounds[1]:\n",
    "                x2.append(xccf[i])\n",
    "        x_2=(np.mean(x2))\n",
    "        x_bisector.append(x_2)\n",
    "\n",
    "        i = 0\n",
    "        for i in range(len(yccf)):\n",
    "            if yccf[i] <= bounds[1] and yccf[i] >= bounds[0]:\n",
    "                x3.append(xccf[i])\n",
    "        x_3=(np.mean(x3))\n",
    "        x_bisector.append(x_3)\n",
    "\n",
    "        bisector_pts = np.vstack([x_bisector,y_bisector])\n",
    "        #print(bisector_pts)\n",
    "        return(bisector_pts)\n",
    "    #else:\n",
    "        #x_bisector = 0.0\n",
    "        #y_bisector = 0.0\n",
    "        #error = np.vstack([x_bisector,y_bisector])\n",
    "        return(error)"
   ]
  },
  {
   "cell_type": "code",
   "execution_count": 4,
   "metadata": {
    "collapsed": true
   },
   "outputs": [],
   "source": [
    "def xrange(x_bisector):\n",
    "    #print(x_bisector)\n",
    "    xr = max(x_bisector) - min(x_bisector)\n",
    "    return xr"
   ]
  },
  {
   "cell_type": "code",
   "execution_count": null,
   "metadata": {
    "collapsed": true
   },
   "outputs": [],
   "source": [
    "def array_builder(locationID,apogeeID,nvisits):\n",
    "    header = apread.apStar(locationID,apogeeID,ext=0,header=True)\n",
    "    data = apread.apStar(locationID,apogeeID,ext=9,header=False)\n",
    "    nvisits=header[1]['NVISITS']\n",
    "    y = []\n",
    "    for visit in range(nvisits):\n",
    "        if nvisits != 1:\n",
    "            CCF = data['CCF'][0][2+visit]\n",
    "            a = calcR151(CCF)\n",
    "            y.append(a)\n",
    "    return y"
   ]
  },
  {
   "cell_type": "code",
   "execution_count": 5,
   "metadata": {
    "collapsed": true
   },
   "outputs": [],
   "source": [
    "'''\n",
    "This function was being used for finding the width of a CCF by locating the maxima, find the midpoint (y-direction),\n",
    "and take the difference in lag space (x-direction) of the indicides that told where the sides of the CCF was.\n",
    "The later steps still need to be implimented. \n",
    "'''\n",
    "def FindMaxima(xccf,CCF,peak_loc):\n",
    "    thresh_down = 1\n",
    "    if peak_loc > 7:\n",
    "        peak_low = peak_loc-2\n",
    "    else:\n",
    "        peak_low = peak_loc+1\n",
    "    while thresh_down > 0:\n",
    "        if peak_low > 2 and (CCF[peak_low-1] - CCF[peak_low] < 0) and CCF[peak_low-1] > 0:\n",
    "            peak_low = peak_loc-1\n",
    "        else:\n",
    "            thresh_down = 0\n",
    "    thresh_up = 1\n",
    "    if peak_loc < 394:\n",
    "        peak_high = peak_loc+2\n",
    "    else:\n",
    "        peak_high = peak_loc-1\n",
    "    while thresh_up > 0:\n",
    "        if peak_high < 399 and (CCF[peak_high+1] - CCF[peak_high] < 0) and (CCF[peak_high+1] > 0):\n",
    "            peak_high = peak_high+1\n",
    "        else:\n",
    "            thresh_up = 0\n",
    "    n_lag = np.arange(0,402,1)\n",
    "    walk = np.zeroes(n_lag)\n",
    "    \n",
    "    if peak_low < 0:\n",
    "        peak_low = 0\n",
    "    if else peak_high > n_lag-1:\n",
    "        peak_high = n_lag-1\n",
    "        \n",
    "    walk[peak_low:peak_high] = 1\n",
    "    \n",
    "    \n",
    "    "
   ]
  },
  {
   "cell_type": "markdown",
   "metadata": {},
   "source": [
    "## Notes\n",
    "\n",
    "We will need to save r151, r101, r401 and r401 as arrays that contain these values for all visits of a given star. From each visit, we need to find the smallest r values. Additionally, we will need to find the largest max x-range.\n"
   ]
  },
  {
   "cell_type": "code",
   "execution_count": 10,
   "metadata": {
    "collapsed": true
   },
   "outputs": [],
   "source": [
    "#Calculate the R-ratios for the likely_binary function\n",
    "def r_ratio(r51,r151,r101):\n",
    "        r1_ratio = r151/r101\n",
    "        r2_ratio = r101/r51\n",
    "        R1_ratio = math.log10(r1_ratio)\n",
    "        R2_ratio = math.log10(r2_ratio)\n",
    "        ratios = [round(R1_ratio,3),round(R2_ratio,3)]\n",
    "        return ratios"
   ]
  },
  {
   "cell_type": "code",
   "execution_count": 14,
   "metadata": {
    "collapsed": true
   },
   "outputs": [],
   "source": [
    "#def idSB2s(CCF,xr,r51,r151,r101): # cuts to identify SB2s\n",
    "    #min_r51 = min(r51)\n",
    "    #min_r101 = min(r101)\n",
    "    #min_r151 = min(r151)\n",
    "    #peak_401 = max(CCF) - min(CCF)\n",
    "    #max_xr = max(xr)\n",
    "def idSB2s(R1_ratio, R2_ratio,r51,r151,r101,xr) # cuts to identify SB2s from Kevin's IDL Routine\n",
    "    min_r51 = r51\n",
    "    min_r101 = r101\n",
    "    min_r151 = r151\n",
    "    r1_ratio = R1_ratio\n",
    "    r2_ratio = R2_ratio\n",
    "    max_xr = xr\n",
    "    \n",
    "    likely_sb2s = np.where((math.log10(r1_ratio) > 0.06 and (math.log10(r1_ratio) < 0.13 and \n",
    "                            math.log10(min_r101) < 0.83)) or (math.log10(r2_ratio) > 0.05 and \n",
    "                            math.log10(r2_ratio) < 0.02 and math.log10(min_r51) < 0.83) and\n",
    "                            math.log10(min_r51) > 0.25 and math.log10(min_r101) > 0.22 and\n",
    "                            math.log10(peak_401) > -0.5 and math.log10(max_xr) < 2.3 and \n",
    "                            math.log10(max_xr) > 0.7\n",
    "                          )\n",
    "    return likely_sb2s"
   ]
  },
  {
   "cell_type": "code",
   "execution_count": 8,
   "metadata": {
    "collapsed": true
   },
   "outputs": [],
   "source": [
    "from astropy.io import fits"
   ]
  },
  {
   "cell_type": "code",
   "execution_count": 9,
   "metadata": {
    "collapsed": true
   },
   "outputs": [],
   "source": [
    "allStarDR14 = apread.allStar(rmcommissioning=False,main=False,ak=True,akvers='targ',adddist=False)\n",
    "\n",
    "locationIDs = allStarDR14['LOCATION_ID']\n",
    "apogeeIDs = allStarDR14['APOGEE_ID']\n",
    "apogeeIDs = [s.decode('utf-8') for s in apogeeIDs]"
   ]
  },
  {
   "cell_type": "code",
   "execution_count": 19,
   "metadata": {
    "collapsed": false,
    "scrolled": false
   },
   "outputs": [
    {
     "ename": "FileNotFoundError",
     "evalue": "[Errno 2] No such file or directory: '/Volumes/coveydata-4/APOGEE_Spectra/APOGEE2_DR14/dr14/apogee/spectro/redux/r8/stars/apo25m/4126/apStar-r8-2M12382107-0720490.fits'",
     "output_type": "error",
     "traceback": [
      "\u001b[0;31m---------------------------------------------------------------------------\u001b[0m",
      "\u001b[0;31mFileNotFoundError\u001b[0m                         Traceback (most recent call last)",
      "\u001b[0;32m<ipython-input-19-26f1ef598b4e>\u001b[0m in \u001b[0;36m<module>\u001b[0;34m()\u001b[0m\n\u001b[1;32m     12\u001b[0m         \u001b[0;31m#print(len(path))\u001b[0m\u001b[0;34m\u001b[0m\u001b[0;34m\u001b[0m\u001b[0m\n\u001b[1;32m     13\u001b[0m         \u001b[0;32mif\u001b[0m \u001b[0mlen\u001b[0m\u001b[0;34m(\u001b[0m\u001b[0mpath\u001b[0m\u001b[0;34m)\u001b[0m \u001b[0;34m==\u001b[0m \u001b[0;36m129\u001b[0m\u001b[0;34m:\u001b[0m\u001b[0;34m\u001b[0m\u001b[0m\n\u001b[0;32m---> 14\u001b[0;31m             \u001b[0mdata\u001b[0m \u001b[0;34m=\u001b[0m \u001b[0mfits\u001b[0m\u001b[0;34m.\u001b[0m\u001b[0mopen\u001b[0m\u001b[0;34m(\u001b[0m\u001b[0mpath\u001b[0m\u001b[0;34m)\u001b[0m\u001b[0;34m\u001b[0m\u001b[0m\n\u001b[0m\u001b[1;32m     15\u001b[0m             \u001b[0mpoint\u001b[0m \u001b[0;34m=\u001b[0m \u001b[0mdata\u001b[0m\u001b[0;34m[\u001b[0m\u001b[0;36m9\u001b[0m\u001b[0;34m]\u001b[0m\u001b[0;34m\u001b[0m\u001b[0m\n\u001b[1;32m     16\u001b[0m             \u001b[0mxccf\u001b[0m \u001b[0;34m=\u001b[0m \u001b[0mpoint\u001b[0m\u001b[0;34m.\u001b[0m\u001b[0mdata\u001b[0m\u001b[0;34m[\u001b[0m\u001b[0;36m0\u001b[0m\u001b[0;34m]\u001b[0m\u001b[0;34m[\u001b[0m\u001b[0;36m32\u001b[0m\u001b[0;34m]\u001b[0m\u001b[0;34m\u001b[0m\u001b[0m\n",
      "\u001b[0;32m/Users/reynaa/anaconda/lib/python3.6/site-packages/astropy/io/fits/hdu/hdulist.py\u001b[0m in \u001b[0;36mfitsopen\u001b[0;34m(name, mode, memmap, save_backup, cache, lazy_load_hdus, **kwargs)\u001b[0m\n\u001b[1;32m    164\u001b[0m \u001b[0;34m\u001b[0m\u001b[0m\n\u001b[1;32m    165\u001b[0m     return HDUList.fromfile(name, mode, memmap, save_backup, cache,\n\u001b[0;32m--> 166\u001b[0;31m                             lazy_load_hdus, **kwargs)\n\u001b[0m\u001b[1;32m    167\u001b[0m \u001b[0;34m\u001b[0m\u001b[0m\n\u001b[1;32m    168\u001b[0m \u001b[0;34m\u001b[0m\u001b[0m\n",
      "\u001b[0;32m/Users/reynaa/anaconda/lib/python3.6/site-packages/astropy/io/fits/hdu/hdulist.py\u001b[0m in \u001b[0;36mfromfile\u001b[0;34m(cls, fileobj, mode, memmap, save_backup, cache, lazy_load_hdus, **kwargs)\u001b[0m\n\u001b[1;32m    402\u001b[0m         return cls._readfrom(fileobj=fileobj, mode=mode, memmap=memmap,\n\u001b[1;32m    403\u001b[0m                              \u001b[0msave_backup\u001b[0m\u001b[0;34m=\u001b[0m\u001b[0msave_backup\u001b[0m\u001b[0;34m,\u001b[0m \u001b[0mcache\u001b[0m\u001b[0;34m=\u001b[0m\u001b[0mcache\u001b[0m\u001b[0;34m,\u001b[0m\u001b[0;34m\u001b[0m\u001b[0m\n\u001b[0;32m--> 404\u001b[0;31m                              lazy_load_hdus=lazy_load_hdus, **kwargs)\n\u001b[0m\u001b[1;32m    405\u001b[0m \u001b[0;34m\u001b[0m\u001b[0m\n\u001b[1;32m    406\u001b[0m     \u001b[0;34m@\u001b[0m\u001b[0mclassmethod\u001b[0m\u001b[0;34m\u001b[0m\u001b[0m\n",
      "\u001b[0;32m/Users/reynaa/anaconda/lib/python3.6/site-packages/astropy/io/fits/hdu/hdulist.py\u001b[0m in \u001b[0;36m_readfrom\u001b[0;34m(cls, fileobj, data, mode, memmap, save_backup, cache, lazy_load_hdus, **kwargs)\u001b[0m\n\u001b[1;32m   1013\u001b[0m             \u001b[0;32mif\u001b[0m \u001b[0;32mnot\u001b[0m \u001b[0misinstance\u001b[0m\u001b[0;34m(\u001b[0m\u001b[0mfileobj\u001b[0m\u001b[0;34m,\u001b[0m \u001b[0m_File\u001b[0m\u001b[0;34m)\u001b[0m\u001b[0;34m:\u001b[0m\u001b[0;34m\u001b[0m\u001b[0m\n\u001b[1;32m   1014\u001b[0m                 \u001b[0;31m# instantiate a FITS file object (ffo)\u001b[0m\u001b[0;34m\u001b[0m\u001b[0;34m\u001b[0m\u001b[0m\n\u001b[0;32m-> 1015\u001b[0;31m                 \u001b[0mfileobj\u001b[0m \u001b[0;34m=\u001b[0m \u001b[0m_File\u001b[0m\u001b[0;34m(\u001b[0m\u001b[0mfileobj\u001b[0m\u001b[0;34m,\u001b[0m \u001b[0mmode\u001b[0m\u001b[0;34m=\u001b[0m\u001b[0mmode\u001b[0m\u001b[0;34m,\u001b[0m \u001b[0mmemmap\u001b[0m\u001b[0;34m=\u001b[0m\u001b[0mmemmap\u001b[0m\u001b[0;34m,\u001b[0m \u001b[0mcache\u001b[0m\u001b[0;34m=\u001b[0m\u001b[0mcache\u001b[0m\u001b[0;34m)\u001b[0m\u001b[0;34m\u001b[0m\u001b[0m\n\u001b[0m\u001b[1;32m   1016\u001b[0m             \u001b[0;31m# The pyfits mode is determined by the _File initializer if the\u001b[0m\u001b[0;34m\u001b[0m\u001b[0;34m\u001b[0m\u001b[0m\n\u001b[1;32m   1017\u001b[0m             \u001b[0;31m# supplied mode was None\u001b[0m\u001b[0;34m\u001b[0m\u001b[0;34m\u001b[0m\u001b[0m\n",
      "\u001b[0;32m/Users/reynaa/anaconda/lib/python3.6/site-packages/astropy/utils/decorators.py\u001b[0m in \u001b[0;36mwrapper\u001b[0;34m(*args, **kwargs)\u001b[0m\n\u001b[1;32m    505\u001b[0m                         \u001b[0;31m# one with the name of the new argument to the function\u001b[0m\u001b[0;34m\u001b[0m\u001b[0;34m\u001b[0m\u001b[0m\n\u001b[1;32m    506\u001b[0m                         \u001b[0mkwargs\u001b[0m\u001b[0;34m[\u001b[0m\u001b[0mnew_name\u001b[0m\u001b[0;34m[\u001b[0m\u001b[0mi\u001b[0m\u001b[0;34m]\u001b[0m\u001b[0;34m]\u001b[0m \u001b[0;34m=\u001b[0m \u001b[0mvalue\u001b[0m\u001b[0;34m\u001b[0m\u001b[0m\n\u001b[0;32m--> 507\u001b[0;31m             \u001b[0;32mreturn\u001b[0m \u001b[0mfunction\u001b[0m\u001b[0;34m(\u001b[0m\u001b[0;34m*\u001b[0m\u001b[0margs\u001b[0m\u001b[0;34m,\u001b[0m \u001b[0;34m**\u001b[0m\u001b[0mkwargs\u001b[0m\u001b[0;34m)\u001b[0m\u001b[0;34m\u001b[0m\u001b[0m\n\u001b[0m\u001b[1;32m    508\u001b[0m \u001b[0;34m\u001b[0m\u001b[0m\n\u001b[1;32m    509\u001b[0m         \u001b[0;32mreturn\u001b[0m \u001b[0mwrapper\u001b[0m\u001b[0;34m\u001b[0m\u001b[0m\n",
      "\u001b[0;32m/Users/reynaa/anaconda/lib/python3.6/site-packages/astropy/io/fits/file.py\u001b[0m in \u001b[0;36m__init__\u001b[0;34m(self, fileobj, mode, memmap, overwrite, cache)\u001b[0m\n\u001b[1;32m    142\u001b[0m             \u001b[0mself\u001b[0m\u001b[0;34m.\u001b[0m\u001b[0m_open_fileobj\u001b[0m\u001b[0;34m(\u001b[0m\u001b[0mfileobj\u001b[0m\u001b[0;34m,\u001b[0m \u001b[0mmode\u001b[0m\u001b[0;34m,\u001b[0m \u001b[0moverwrite\u001b[0m\u001b[0;34m)\u001b[0m\u001b[0;34m\u001b[0m\u001b[0m\n\u001b[1;32m    143\u001b[0m         \u001b[0;32melif\u001b[0m \u001b[0misinstance\u001b[0m\u001b[0;34m(\u001b[0m\u001b[0mfileobj\u001b[0m\u001b[0;34m,\u001b[0m \u001b[0mstring_types\u001b[0m\u001b[0;34m)\u001b[0m\u001b[0;34m:\u001b[0m\u001b[0;34m\u001b[0m\u001b[0m\n\u001b[0;32m--> 144\u001b[0;31m             \u001b[0mself\u001b[0m\u001b[0;34m.\u001b[0m\u001b[0m_open_filename\u001b[0m\u001b[0;34m(\u001b[0m\u001b[0mfileobj\u001b[0m\u001b[0;34m,\u001b[0m \u001b[0mmode\u001b[0m\u001b[0;34m,\u001b[0m \u001b[0moverwrite\u001b[0m\u001b[0;34m)\u001b[0m\u001b[0;34m\u001b[0m\u001b[0m\n\u001b[0m\u001b[1;32m    145\u001b[0m         \u001b[0;32melse\u001b[0m\u001b[0;34m:\u001b[0m\u001b[0;34m\u001b[0m\u001b[0m\n\u001b[1;32m    146\u001b[0m             \u001b[0mself\u001b[0m\u001b[0;34m.\u001b[0m\u001b[0m_open_filelike\u001b[0m\u001b[0;34m(\u001b[0m\u001b[0mfileobj\u001b[0m\u001b[0;34m,\u001b[0m \u001b[0mmode\u001b[0m\u001b[0;34m,\u001b[0m \u001b[0moverwrite\u001b[0m\u001b[0;34m)\u001b[0m\u001b[0;34m\u001b[0m\u001b[0m\n",
      "\u001b[0;32m/Users/reynaa/anaconda/lib/python3.6/site-packages/astropy/io/fits/file.py\u001b[0m in \u001b[0;36m_open_filename\u001b[0;34m(self, filename, mode, overwrite)\u001b[0m\n\u001b[1;32m    497\u001b[0m             \u001b[0mself\u001b[0m\u001b[0;34m.\u001b[0m\u001b[0m_file\u001b[0m \u001b[0;34m=\u001b[0m \u001b[0mbz2\u001b[0m\u001b[0;34m.\u001b[0m\u001b[0mBZ2File\u001b[0m\u001b[0;34m(\u001b[0m\u001b[0mself\u001b[0m\u001b[0;34m.\u001b[0m\u001b[0mname\u001b[0m\u001b[0;34m,\u001b[0m \u001b[0mbzip2_mode\u001b[0m\u001b[0;34m)\u001b[0m\u001b[0;34m\u001b[0m\u001b[0m\n\u001b[1;32m    498\u001b[0m         \u001b[0;32melse\u001b[0m\u001b[0;34m:\u001b[0m\u001b[0;34m\u001b[0m\u001b[0m\n\u001b[0;32m--> 499\u001b[0;31m             \u001b[0mself\u001b[0m\u001b[0;34m.\u001b[0m\u001b[0m_file\u001b[0m \u001b[0;34m=\u001b[0m \u001b[0mfileobj_open\u001b[0m\u001b[0;34m(\u001b[0m\u001b[0mself\u001b[0m\u001b[0;34m.\u001b[0m\u001b[0mname\u001b[0m\u001b[0;34m,\u001b[0m \u001b[0mIO_FITS_MODES\u001b[0m\u001b[0;34m[\u001b[0m\u001b[0mmode\u001b[0m\u001b[0;34m]\u001b[0m\u001b[0;34m)\u001b[0m\u001b[0;34m\u001b[0m\u001b[0m\n\u001b[0m\u001b[1;32m    500\u001b[0m \u001b[0;34m\u001b[0m\u001b[0m\n\u001b[1;32m    501\u001b[0m         \u001b[0;31m# Make certain we're back at the beginning of the file\u001b[0m\u001b[0;34m\u001b[0m\u001b[0;34m\u001b[0m\u001b[0m\n",
      "\u001b[0;32m/Users/reynaa/anaconda/lib/python3.6/site-packages/astropy/io/fits/util.py\u001b[0m in \u001b[0;36mfileobj_open\u001b[0;34m(filename, mode)\u001b[0m\n\u001b[1;32m    405\u001b[0m         \"\"\"\n\u001b[1;32m    406\u001b[0m \u001b[0;34m\u001b[0m\u001b[0m\n\u001b[0;32m--> 407\u001b[0;31m         \u001b[0;32mreturn\u001b[0m \u001b[0mopen\u001b[0m\u001b[0;34m(\u001b[0m\u001b[0mfilename\u001b[0m\u001b[0;34m,\u001b[0m \u001b[0mmode\u001b[0m\u001b[0;34m,\u001b[0m \u001b[0mbuffering\u001b[0m\u001b[0;34m=\u001b[0m\u001b[0;36m0\u001b[0m\u001b[0;34m)\u001b[0m\u001b[0;34m\u001b[0m\u001b[0m\n\u001b[0m\u001b[1;32m    408\u001b[0m \u001b[0;34m\u001b[0m\u001b[0m\n\u001b[1;32m    409\u001b[0m \u001b[0;34m\u001b[0m\u001b[0m\n",
      "\u001b[0;31mFileNotFoundError\u001b[0m: [Errno 2] No such file or directory: '/Volumes/coveydata-4/APOGEE_Spectra/APOGEE2_DR14/dr14/apogee/spectro/redux/r8/stars/apo25m/4126/apStar-r8-2M12382107-0720490.fits'"
     ]
    }
   ],
   "source": [
    "#xccf = np.arange(0,402,1)\n",
    "\n",
    "with open('DR14_Stats_Catalog.csv','w') as output:\n",
    "    column = ['Location_ID','Apogee_ID','x_range','R51','R101','R151','R401','R151/R101','R101/R51','Visit']\n",
    "    writer = csv.DictWriter(output,delimiter='\\t',fieldnames=column)\n",
    "    writer.writeheader()\n",
    "    \n",
    "    for i in range(len(locationIDs)):\n",
    "        locationID = locationIDs[i]\n",
    "        apogeeID = apogeeIDs[i]\n",
    "        path = '/Volumes/coveydata-4/APOGEE_Spectra/APOGEE2_DR14/dr14/apogee/spectro/redux/r8/stars/apo25m/'+str(locationID)+'/'+'apStar-r8-'+str(apogeeID)+'.fits'\n",
    "        #print(len(path))\n",
    "        if len(path) == 129:\n",
    "            data = fits.open(path)\n",
    "            point = data[9]\n",
    "            xccf = point.data[0][32]\n",
    "            CCF = point.data[0][27]\n",
    "            HDU0 = fits.getheader(path,0)\n",
    "            nvisits = HDU0['NVISITS']\n",
    "            for visit in range(0,nvisits):\n",
    "                #snr = HDU0['SNVIS'+str(visit+2)]\n",
    "                if nvisits != 1:\n",
    "                    ccf = CCF[visit+2]\n",
    "                    nonzeroes = np.count_nonzero(ccf) # This condition is meant to eliminate visits that are empty\n",
    "                    if nonzeroes >= 1:\n",
    "                        bs_pt = bisector(xccf, ccf)\n",
    "                        x_range = xrange(bs_pt[0])\n",
    "                        R401 = calcR401(ccf)\n",
    "                        R151 = calcR151(ccf)\n",
    "                        R101 = calcR101(ccf)\n",
    "                        R51 = calcR51(ccf)\n",
    "                        Ratios = r_ratio(R51,R151,R101)\n",
    "                        r1 = Ratios[0]\n",
    "                        r2 = Ratios[1]\n",
    "                        # Output file onto CoveyData Server. Name: DR14_Stats_Catalog.csv \n",
    "                        # This file will hold all the stats for every visit for each star in DR14.\n",
    "                        #Path: /Volumes/CoveyData-4/APOGEE_Spectra/APOGEE_DR14/BinaryID/\n",
    "                        writer.writerow({'Location_ID':locationID,'Apogee_ID':apogeeID,'x_range':round(x_range,3),\n",
    "                                         'R51':round(R51,3),'R101':round(R101,3),'R151':round(R151,3),\n",
    "                                         'R401':round(R401,3),'R151/R101':r1,'R101/R51':r2,'Visit':visit})\n",
    "        else:\n",
    "            path = '/Volumes/coveydata-4/APOGEE_Spectra/APOGEE2_DR14/dr14/apogee/spectro/redux/r8/stars/apo25m/'+str(locationID)+'/'+'apStarC-r8-'+str(apogeeID)+'.fits'\n",
    "            data = fits.open(path)\n",
    "            print('I am apStarC file!')\n",
    "            point = data[9]\n",
    "            xccf = point.data[0][32]\n",
    "            CCF = point.data[0][27]\n",
    "            HDU = fits.getheader(path,0)\n",
    "            nvisits = HDU0['NVISITS']\n",
    "            for visit in range(0,nvisits):\n",
    "                #snr = HDU['SNVIS'+str(visit+2)]\n",
    "                if nvisits != 1:\n",
    "                    ccfs = CCF[visit+2]\n",
    "                    nonzero = np.count_nonzero(ccfs)\n",
    "                    if nonzero >= 1:\n",
    "                        bs_pt = bisector(xccf, ccfs)\n",
    "                        x_range = xrange(bs_pt[0])\n",
    "                        R401 = calcR401(ccfs)\n",
    "                        R151 = calcR151(ccfs)\n",
    "                        R101 = calcR101(ccfs)\n",
    "                        R51 = calcR51(ccfs)\n",
    "                        Ratios = r_ratio(R51,R151,R101)\n",
    "                        r1 = Ratios[0]\n",
    "                        r2 = Ratios[1]\n",
    "                        writer.writerow({'Location_ID':locationID,'Apogee_ID':apogeeID,'x_range':round(x_range,3),\n",
    "                                         'R51':round(R51,3),'R101':round(R101,3),'R151':round(R151,3),\n",
    "                                         'R401':round(R401,3),'R151/R101':r1,'R101/R51':r2,'Visit':visit})       \n",
    "\n"
   ]
  },
  {
   "cell_type": "code",
   "execution_count": null,
   "metadata": {
    "collapsed": true
   },
   "outputs": [],
   "source": [
    "# Read in the file and find how many are SB2s. \n",
    "stats = pd.read_csv('DR14_Stats_Catalog.csv',delimiter='/t')\n",
    "FieldID = stats['Location_ID']\n",
    "TwoMassID = stats['Apogee_ID']\n",
    "Star_Visit = stats['Visit']\n",
    "logR1 = stats['R151/R101']\n",
    "logR2 = stats['R101/R51']\n",
    "R51s = stats['R51']\n",
    "R101s = stats['R101']\n",
    "R151s = stats['R151']\n",
    "xr_value = stats['x_range']\n",
    "\n",
    "with open('DR14_SB2_Catalog.csv','w') as files:\n",
    "    column = ['Location_ID','Apogee_ID']\n",
    "    writer = csv.DictWriter(files,delimiter='\\t',fieldnames=column)\n",
    "    writer.writeheader()\n",
    "    i = 0\n",
    "    r1 = []\n",
    "    r2 = []\n",
    "    r51 = []\n",
    "    r101 = []\n",
    "    r151 = []\n",
    "    xranges = []\n",
    "    SB2 = []\n",
    "    for i in range(len(FieldID)):\n",
    "        if Visit[i] == Visit[i]:\n",
    "            r1.append(logR1[i])\n",
    "            r2.append(logR2[i])\n",
    "            r51.append(R51s[i])\n",
    "            r101.append(R101s[i])\n",
    "            r151.append(R151s[i])\n",
    "            xranges.append(xr_value[i])\n",
    "        likely_binary = likely_SB2s(r1, r2,r51,r151,r101,xranges)\n",
    "        index_locID = FieldID[likely_binary]\n",
    "        index_apoID = TwoMassID[likely_binary]\n",
    "        SB2.append([index_locID,index_apoID])\n",
    "        writer.writerow({'Location_ID': SB2[0] ,'Apogee_ID':SB2[1]})"
   ]
  },
  {
   "cell_type": "code",
   "execution_count": null,
   "metadata": {
    "collapsed": true
   },
   "outputs": [],
   "source": [
    "#Check that these are true SB2s visually! Open the file of SB2s and plot the CCFs\n",
    "Sb2_data = pd.read_csv('DR14_SB2_Catalog.csv',delimiter='/t')\n",
    "locIds = Sb2_data['Location_ID']\n",
    "apoIds = Sb2_data['Apogee_ID']\n",
    "\n",
    "for j in range(len(apoIds)):\n",
    "    location_ID = locIds[j]\n",
    "    apogee_ID = apoIds[j]\n",
    "    header = apread.apStar(location_ID,apogee_ID,ext=0,header=True)\n",
    "    data = apread.apStar(location_ID,apogee_ID,ext=9,header=False)\n",
    "    nvisits=header[1]['NVISITS']\n",
    "    \n",
    "    for visit in range(nvisits):\n",
    "        if nvisits != 1:\n",
    "            CCF = data['CCF'][0][2+visit]\n",
    "            plt.title(str(location_ID)+str(apogee_ID))\n",
    "            plt.plot(CCF+visit,label='Visit '+ str(visit))\n",
    "            plt.xlabel('CCF Lag',fontsize=10)\n",
    "            plt.ylabel('$\\widehat{CCF}$ Units', fontsize=10)\n",
    "            plt.legend(loc='upper right')\n",
    "            #plt.savefig('PSB2Fig_'+str(location_ID)+'-'+str(apogee_ID)+'-'+str(visit)+'.png',dpi=900)\n",
    "            #plt.xlim(100,300)\n",
    "            #plt.show()\n",
    "            #plt.close('all')\n",
    "                    \n",
    "        else:\n",
    "            CCF = data['CCF'][0]\n",
    "    #except FileNotFoundError:\n",
    "            #pass\n",
    "    "
   ]
  },
  {
   "cell_type": "markdown",
   "metadata": {},
   "source": [
    "## Issue: \n",
    "Current array for R values is being over written. It will find the min but then suddenly skip to an empty array. It must be the main programs for loop!\n",
    "\n",
    "Additionally, Something is wrong with the bisector x-value calculations. They are in decimal values instead of whole integers. The code below is less precise than the one above"
   ]
  },
  {
   "cell_type": "code",
   "execution_count": null,
   "metadata": {
    "collapsed": true,
    "scrolled": true
   },
   "outputs": [],
   "source": [
    "# Main Routine\n",
    "xccf = np.arange(0,402,1)\n",
    "with open('SB2_Catalog.csv','w') as output:\n",
    "    names = ['Location_ID','Apogee_ID','R_401','R_151','R_101','R_51','Max_XR','Visit']\n",
    "    writer = csv.DictWriter(output,delimiter='\\t',fieldnames=names)\n",
    "    writer.writeheader()\n",
    "    #try:\n",
    "    for i in range(20):\n",
    "            location_ID = locationIDs[i]\n",
    "            apogee_ID = apogeeIDs[i]\n",
    "            header = apread.apStar(location_ID,apogee_ID,ext=0,header=True)\n",
    "            data = apread.apStar(location_ID,apogee_ID,ext=9,header=False)\n",
    "            nvisits=header[1]['NVISITS']\n",
    "            #R151 = array_builder(location_ID,apogee_ID,nvisits)\n",
    "            XR = []\n",
    "            for visit in range(nvisits):\n",
    "                if nvisits != 1:\n",
    "                    CCF = data['CCF'][0][2+visit]\n",
    "                    bs_pts = bisector(xccf,CCF)\n",
    "                    x_range = xrange(bs_pts[0])\n",
    "                    print(x_range)\n",
    "                    R401 = calcR401(CCF)\n",
    "                    R151 = calcR151(CCF)\n",
    "                    R101 = calcR101(CCF)\n",
    "                    R51 = calcR51(CCF)\n",
    "                    XR.append(x_range)\n",
    "                    writer.writerow({'Location_ID':location_ID,'Apogee_ID':apogee_ID,'R_401':round(R401,3)\n",
    "                                 ,'R_151':round(R151,3),'R_101':round(R101,3),'R_51':round(R51,3),\n",
    "                                     'Max_XR':round(max(XR),3), 'Visit':visit})\n",
    "                                     #'Max_XR':round(x_range,3), 'Visit':visit})\n",
    "                    #plt.plot(CCF,label=str(apogee_ID))\n",
    "                    #plt.legend(loc='upper right')\n",
    "                    #plt.xlim(100,300)\n",
    "                    #plt.show()\n",
    "                    \n",
    "                else:\n",
    "                    CCF = data['CCF'][0]\n",
    "                #writer.writerow({'Location_ID':location_ID,'Apogee_ID':apogee_ID,'R_401':round(R401,3)\n",
    "                                 #,'R_151':round(R151,3),'R_101':round(R101,3),'R_51':round(R51,3),\n",
    "                                    # 'Max_XR':round(max(XR),3), 'Visit':visit})\n",
    "               \n",
    "    #except FileNotFoundError:\n",
    "            #pass"
   ]
  },
  {
   "cell_type": "code",
   "execution_count": null,
   "metadata": {
    "collapsed": true
   },
   "outputs": [],
   "source": []
  }
 ],
 "metadata": {
  "kernelspec": {
   "display_name": "Python 3",
   "language": "python",
   "name": "python3"
  },
  "language_info": {
   "codemirror_mode": {
    "name": "ipython",
    "version": 3
   },
   "file_extension": ".py",
   "mimetype": "text/x-python",
   "name": "python",
   "nbconvert_exporter": "python",
   "pygments_lexer": "ipython3",
   "version": "3.5.2"
  }
 },
 "nbformat": 4,
 "nbformat_minor": 2
}
