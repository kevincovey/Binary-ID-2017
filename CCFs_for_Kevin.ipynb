{
 "cells": [
  {
   "cell_type": "markdown",
   "metadata": {},
   "source": [
    "## Producing Overlapping CCFs \n",
    "This notebook will hold the code for generating CCF visuals for identification"
   ]
  },
  {
   "cell_type": "code",
   "execution_count": null,
   "metadata": {
    "collapsed": true
   },
   "outputs": [],
   "source": [
    "import numpy as np\n",
    "import apogee.tools.read as apread\n",
    "from matplotlib import pyplot as plt\n",
    "import math\n",
    "import matplotlib.mlab as mlab\n",
    "from astropy.io import fits\n",
    "import pylab as pl\n",
    "import os\n",
    "import matplotlib.lines as mlines\n",
    "% matplotlib inline"
   ]
  },
  {
   "cell_type": "code",
   "execution_count": null,
   "metadata": {
    "collapsed": true
   },
   "outputs": [],
   "source": [
    "for i in range(len(locationID)):\n",
    "    locationIDs = locationID[i]\n",
    "    apogeeIDs = apogeeID[i]\n",
    "    badheader, header = apread.apStar(locationIDs, apogeeIDs, ext=0, header=True)\n",
    "    data = apread.apStar(locationIDs, apogeeIDs, ext=9, header=False)\n",
    "    nvisits = header['NVISITS']\n",
    "    plt.figure(figsize=(10,10))\n",
    "    for visit in range(0, nvisits):\n",
    "        if (nvisits != 1):\n",
    "            ccf = data['CCF'][0][2+ visit]\n",
    "        else:\n",
    "            ccf = data['CCF'][0]\n",
    "\n",
    "        plt.plot(ccf + visit,label= 'Visit: '+str(1+visit))\n",
    "        plt.xlabel('CCF Lag',fontsize=15)\n",
    "        plt.ylabel('$\\widehat{CCF}$ Units', fontsize=15)\n",
    "        plt.title(' All Visits for'+ str(apogeeIDs),fontsize=16)\n",
    "        pl.legend(loc='lower left')\n",
    "        plt.savefig('QS_'+str(locationIDs)+'_'+str(apogeeIDs)+'.png',dpi=900)\n",
    "    plt.close('all')"
   ]
  },
  {
   "cell_type": "markdown",
   "metadata": {
    "collapsed": true
   },
   "source": [
    "## List Generator"
   ]
  },
  {
   "cell_type": "code",
   "execution_count": null,
   "metadata": {},
   "outputs": [],
   "source": [
    "import csv\n",
    "import random\n",
    "outfile = open('non_binaries_list.csv','w')\n",
    "locationID,apogeeID = np.loadtxt('master_apStarList_DR13.lis',dtype=str,skiprows=1,usecols=[3,4],unpack=True)\n",
    "locID = []\n",
    "apoID = []\n",
    "for i in range(len(locationID)):\n",
    "    locID.append(locationID[i][2:-1])\n",
    "    apoID.append(apogeeID[i][2:-1])   \n",
    "\n",
    "lists = []\n",
    "for j in range(len(locID)):\n",
    "    lists.append([apoID[j],locID[j]])\n",
    "\n",
    "#Generate a list of 1100 randomly aquired non-binaries. \n",
    "sample = []\n",
    "for k in range(1100):\n",
    "    sample.append(random.choice(lists))      \n",
    "    outfile.write(str(sample[k][0])+','+str(sample[k][1])+'\\n')\n",
    "outfile.close()"
   ]
  },
  {
   "cell_type": "markdown",
   "metadata": {},
   "source": [
    "## CCFs for Non-binaries"
   ]
  },
  {
   "cell_type": "code",
   "execution_count": null,
   "metadata": {},
   "outputs": [],
   "source": [
    "locaID,apogID = np.loadtxt('non_binaries_list.csv',delimiter=',',dtype=str,unpack=True)\n",
    "locationID = []\n",
    "apogeeID = []\n",
    "for j in range(len(locaID)):\n",
    "    locationID.append(locaID[j][2:-1])\n",
    "    apogeeID.append(apogID[j][2:-1]) \n",
    "\n",
    "for i in range(len(locationID)):\n",
    "    locationIDs = locationID[i]\n",
    "    apogeeIDs = apogeeID[i]\n",
    "    badheader, header = apread.apStar(locationIDs, apogeeIDs, ext=0, header=True)\n",
    "    Data = apread.apStar(locationIDs, apogeeIDs, ext=9, header=False)\n",
    "    nvisits = header['NVISITS']\n",
    "    plt.figure(figsize=(10,10))\n",
    "    for visit in range(0, nvisits):\n",
    "        if (nvisits != 1):\n",
    "            CCF = Data['CCF'][0][2+ visit]\n",
    "        else:\n",
    "            CCF = Data['CCF'][0]\n",
    "\n",
    "        plt.plot(CCF + visit,label= 'Visit: '+str(1+visit))\n",
    "        plt.xlabel('CCF Lag',fontsize=15)\n",
    "        plt.ylabel('$\\widehat{CCF}$ Units', fontsize=15)\n",
    "        plt.title(' All Visits for'+ str(apogeeIDs),fontsize=16)\n",
    "        pl.legend(loc='lower left')\n",
    "        plt.savefig('NBS_'+str(locationIDs)+'_'+str(apogeeIDs)+'.png',dpi=900)\n",
    "    plt.close('all')"
   ]
  },
  {
   "cell_type": "markdown",
   "metadata": {},
   "source": [
    "## Obtain the 100 stars randomly via the telluric header"
   ]
  },
  {
   "cell_type": "code",
   "execution_count": null,
   "metadata": {
    "collapsed": true
   },
   "outputs": [],
   "source": [
    "def RRS(locationID,apogeeID):\n",
    "    header = apread.apStar(locationID,apogeeID,ext=0,header=True)\n",
    "    nvisits = header[1]['NVISITS']\n",
    "    telluric = apread.apStar(locationID,apogeeID,ext=6,header=True)"
   ]
  },
  {
   "cell_type": "code",
   "execution_count": null,
   "metadata": {},
   "outputs": [],
   "source": [
    "#nb_loc, nb_apo = np.loadtxt('non_binaries_list.csv',unpack=True,delimiter=',',dtype=str)\n",
    "apogeeID,locationID = np.loadtxt('master_apStarList_DR13.lis',dtype=str,skiprows=1,usecols=[3,4],unpack=True)\n",
    "outs=open('telluric_stars.csv','w')\n",
    "locationIDs = []\n",
    "apogeeIDs = []\n",
    "for i in range(len(locationID)):\n",
    "    locationIDs.append(locationID[i][2:-1])\n",
    "    apogeeIDs.append(apogeeID[i][2:-1]) \n",
    "\n",
    "new=[]\n",
    "for j in range(len(locationID)):\n",
    "    new.append([apogeeID[j],locID[j]])\n",
    "\n",
    "#Generate a list of 100 randomly aquired stars with telluric flags. \n",
    "ts = []\n",
    "for m in range(100):\n",
    "    ts.append(random.choice(new))      \n",
    "    outs.write(str(ts[m][0])+','+str(ts[m][1])+'\\n')\n",
    "outs.close()\n",
    "\n",
    "'''for j in range(len(locationID)):\n",
    "    locationID=locationIDs[j]\n",
    "    apogeeID = apogeeIDs[j]\n",
    "    header = apread.apStar(locationID,apogeeID,ext=6,header=True)'''"
   ]
  },
  {
   "cell_type": "code",
   "execution_count": null,
   "metadata": {
    "collapsed": true
   },
   "outputs": [],
   "source": []
  }
 ],
 "metadata": {
  "anaconda-cloud": {},
  "kernelspec": {
   "display_name": "Python 3",
   "language": "python",
   "name": "python3"
  },
  "language_info": {
   "codemirror_mode": {
    "name": "ipython",
    "version": 3
   },
   "file_extension": ".py",
   "mimetype": "text/x-python",
   "name": "python",
   "nbconvert_exporter": "python",
   "pygments_lexer": "ipython3",
   "version": "3.6.1"
  }
 },
 "nbformat": 4,
 "nbformat_minor": 1
}
