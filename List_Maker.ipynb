{
 "cells": [
  {
   "cell_type": "markdown",
   "metadata": {},
   "source": [
    "## Generating a Sample of 1100 Random Non-binary Stars\n",
    "\n",
    "    First, the catalog that Richard compiled of all of DR13 is read into the program. Then, 1100 indices are selected at random to be put into the file to pull out random location and apogee IDs of stars. An output file is then created with the headers as follows: 'Location ID', 'Apogee ID', 'Binary'. The 'Binary' header will hold 0's in place until visual identification requires those values to be turned to 1. 1 = binary. 0 = non-binary.\n",
    "    Those location and apogee IDs are then fed into a loop that generates a CCF with all its visits in a single figure. These are for identification purposes. \n",
    "    "
   ]
  },
  {
   "cell_type": "code",
   "execution_count": 2,
   "metadata": {
    "collapsed": true
   },
   "outputs": [],
   "source": [
    "import numpy as np\n",
    "import apogee.tools.read as apread\n",
    "from matplotlib import pyplot as plt\n",
    "from astropy.io import fits\n",
    "import random\n",
    "import csv"
   ]
  },
  {
   "cell_type": "code",
   "execution_count": null,
   "metadata": {
    "collapsed": true
   },
   "outputs": [],
   "source": [
    "with open('All Visits4.csv') as f:\n",
    "    x = list(csv.reader(f,delimiter = '\\t'))\n",
    "    count = len(x)\n",
    "    with open('Non_binary.csv','w') as csvfile:\n",
    "        names = ['Location ID','Apogee ID', 'Binary']\n",
    "        writer = csv.DictWriter(csvfile,delimiter='\\t',fieldnames=names)\n",
    "        writer.writeheader()\n",
    "        for i in range(1100):\n",
    "            y = random.randint(0,count)\n",
    "            writer.writerow({'Location ID':x[y][0],'Apogee ID': x[y][1], 'Binary': 0})\n",
    "            "
   ]
  },
  {
   "cell_type": "code",
   "execution_count": null,
   "metadata": {
    "collapsed": true
   },
   "outputs": [],
   "source": [
    "LocID = []\n",
    "ApogID = []\n",
    "with open('Non_binary.csv') as csvfile:\n",
    "    reader = csv.reader(csvfile,delimiter='\\t')\n",
    "    next(reader,None)\n",
    "    \n",
    "    for row in reader:\n",
    "        b = int(row[0])\n",
    "        c = (row[1])\n",
    "        LocID.append(b)\n",
    "        ApogID.append(c)\n",
    "\n",
    "for i in range(len(LocID)):\n",
    "    locationID = LocID[i]\n",
    "    apogeeID = ApogID[i]\n",
    "    \n",
    "    header = apread.apStar(locationID, apogeeID, ext=0, header=True)\n",
    "    Data = apread.apStar(locationID, apogeeID, ext=9, header=False)\n",
    "    \n",
    "    nvisits = header[1]['NVISITS']\n",
    "    plt.figure(figsize=(10,10))\n",
    "    for visit in range(0, nvisits):\n",
    "        if (nvisits != 1):\n",
    "            CCF = Data['CCF'][0][2+ visit]\n",
    "        else:\n",
    "            CCF = Data['CCF'][0]\n",
    "\n",
    "        plt.plot(CCF + visit,label= 'Visit: '+str(1+visit))\n",
    "        plt.xlabel('CCF Lag',fontsize=15)\n",
    "        plt.ylabel('$\\widehat{CCF}$ Units', fontsize=15)\n",
    "        plt.title(' All Visits for'+ str(apogeeID),fontsize=16)\n",
    "        pl.legend(loc='lower left')\n",
    "        plt.savefig('NBS_'+str(locationID)+'_'+str(apogeeID)+'.png',dpi=900)\n",
    "    plt.close('all')"
   ]
  },
  {
   "cell_type": "markdown",
   "metadata": {},
   "source": [
    "### Converting a List of Strings to a List of Values\n",
    "    I wasn't cautious enough in my first creation of this list. I accidentially made this list to be a list of strings when imported. I will now fix that by rewritting the list to make sure the entire row is written into columns not strings"
   ]
  },
  {
   "cell_type": "code",
   "execution_count": 47,
   "metadata": {},
   "outputs": [],
   "source": [
    "locID = []\n",
    "apoID = []\n",
    "binary = []\n",
    "with open('Non_binary.csv','r') as csvfile:\n",
    "    reader = csv.reader(csvfile,delimiter='\\t')\n",
    "    next(reader,None)\n",
    "    for row in reader:\n",
    "        a = int(row[0][0:4])\n",
    "        b = (row[0][5:23])\n",
    "        c = int(row[0][24])\n",
    "        locID.append(a)\n",
    "        apoID.append(b)\n",
    "        binary.append(c)"
   ]
  },
  {
   "cell_type": "code",
   "execution_count": 48,
   "metadata": {},
   "outputs": [],
   "source": [
    " with open('Non_Binaries.csv','w') as files:\n",
    "            headers = ['Location ID', 'Apogee ID', 'Binary']\n",
    "            writer = csv.DictWriter(files,delimiter = '\\t', fieldnames=headers)\n",
    "            writer.writeheader()\n",
    "            for i in range(1250):\n",
    "                writer.writerow({'Location ID':locID[i],'Apogee ID': apoID[i], 'Binary': binary[i]})\n",
    "    "
   ]
  },
  {
   "cell_type": "code",
   "execution_count": null,
   "metadata": {
    "collapsed": true
   },
   "outputs": [],
   "source": []
  }
 ],
 "metadata": {
  "kernelspec": {
   "display_name": "Python 3",
   "language": "python",
   "name": "python3"
  },
  "language_info": {
   "codemirror_mode": {
    "name": "ipython",
    "version": 3
   },
   "file_extension": ".py",
   "mimetype": "text/x-python",
   "name": "python",
   "nbconvert_exporter": "python",
   "pygments_lexer": "ipython3",
   "version": "3.6.1"
  }
 },
 "nbformat": 4,
 "nbformat_minor": 2
}
