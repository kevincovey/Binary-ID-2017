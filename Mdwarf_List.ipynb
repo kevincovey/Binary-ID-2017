{
 "cells": [
  {
   "cell_type": "code",
   "execution_count": 3,
   "metadata": {
    "collapsed": true
   },
   "outputs": [],
   "source": [
    "import numpy as np\n",
    "import apogee.tools.read as apread\n",
    "from matplotlib import pyplot as plt\n",
    "import pylab as pl\n",
    "import csv"
   ]
  },
  {
   "cell_type": "code",
   "execution_count": 4,
   "metadata": {
    "collapsed": true
   },
   "outputs": [],
   "source": [
    "from apogee.tools import bitmask\n",
    "from astropy.io import fits"
   ]
  },
  {
   "cell_type": "markdown",
   "metadata": {},
   "source": [
    "### Test M-dwarf flag on one star"
   ]
  },
  {
   "cell_type": "code",
   "execution_count": 4,
   "metadata": {},
   "outputs": [
    {
     "data": {
      "text/plain": [
       "False"
      ]
     },
     "execution_count": 4,
     "metadata": {},
     "output_type": "execute_result"
    }
   ],
   "source": [
    "star1 = fits.open('/Volumes/coveydata-1/APOGEE_Spectra/APOGEE2_DR13/5011/apStar-r6-2M19150038+4423231.fits')\n",
    "star1[0].header\n",
    "bitmask.bit_set(19, -2147483136 )"
   ]
  },
  {
   "cell_type": "code",
   "execution_count": 5,
   "metadata": {
    "scrolled": true
   },
   "outputs": [
    {
     "data": {
      "text/plain": [
       "SIMPLE  =                    T /image conforms to FITS standard                 \n",
       "BITPIX  =                   16 /bits per data value                             \n",
       "NAXIS   =                    0 /number of axes                                  \n",
       "EXTEND  =                    T /file may contain extensions                     \n",
       "DATE    = '2016-01-25'         / Creation UTC (CCCC-MM-DD) date of FITS header  \n",
       "COMMENT FITS (Flexible Image Transport System) format is defined in 'Astronomy  \n",
       "COMMENT and Astrophysics', volume 376, page 359; bibcode 2001A&A...376..359H    \n",
       "OBJID   = '2M06385414-0050001' / Object ID                                      \n",
       "J       =              10.0270 / 2MASS J magnitude                              \n",
       "H       =              10.0670 / 2MASS H magnitude                              \n",
       "K       =              10.0170 / 2MASS Ks magnitude                             \n",
       "TARG1   =          -2147483584 / First APOGEE targeting flag (bitwise, see docs)\n",
       "TARG2   =          -2147483136 / Second APOGEE targeting flag (bitwise, see docs\n",
       "TARG3   =                    0 / Third APOGEE targeting flag (bitwise, see docs)\n",
       "SURVEY  = 'apogee  '           / Survey name (for targeting flags)              \n",
       "TELESCOP= 'apo25m  '           / Telescope                                      \n",
       "LOCID   =                 4617 / LocationID                                     \n",
       "FIELD   = 'COROTA3 '           / Field name                                     \n",
       "RA      =        99.7256053862 / right ascension, deg, J2000                    \n",
       "DEC     =      -0.833375991118 / declination, deg, J2000                        \n",
       "GLON    =        212.244431152 / galactic longitude, deg, J2000                 \n",
       "GLAT    =       -3.16898962975 / galactic latitude, deg, J2000                  \n",
       "NVISITS =                    4 / number of visit spectra combined               \n",
       "COMMENT MEAN VALUES:                                                            \n",
       "VRAD    =              0.00000 / Doppler shift (km/s) of this spectrum          \n",
       "VHELIO  =              32.0271 / mean heliocentric velocity (km/s)              \n",
       "VSCATTER=              29.9769 / STDEV of VHELIO (km/s)                         \n",
       "VERR    =             0.773789 / weighted error in VHELIO (km/s)                \n",
       "VERR_MED=              1.54291 / median error in VHELIO (km/s)                  \n",
       "SVHELIO =              44.5352 / mean heliocentric velocity (km/s) from SYNTHVHE\n",
       "SVERR   =             0.733638 / weighted error in SYNTHVHELIO                  \n",
       "SVERR_ME=              1.35601 / median error of SYNTHVHELIO velocity (km/s) fro\n",
       "SVSCAT  =              31.5078 / STDEV of SYNTHVHELIO (km/s)                    \n",
       "SYNTHSCA=              6.71602 / STDEV of VHELIO-SYNTHVHELIO (km/s)             \n",
       "SNR     =              157.609 / final median Signal/Noise ratio                \n",
       "STARFLAG=               197120 / bitwise OR of individual visit starflags       \n",
       "ANDFLAG =                  512 / bitwise AND of individual visit starflags      \n",
       "MEANFIB =              18.2260 / S/N weighted mean fiber number                 \n",
       "SIGFIB  =              6.84957 / standard deviation (unweighted) of fiber number\n",
       "RVFEH   =             -1.00000 / metallicity [Fe/H] from mini-grid cross correla\n",
       "RVTEFF  =              14000.0 / effective temperature (K) from mini-grid cross \n",
       "RVLOGG  =              4.00000 / surface gravity (dex) from mini-grid cross corr\n",
       "RVALPH  =              0.00000 / alpha abundance for mini-grid cross correlation\n",
       "RVCARB  =              0.00000 / carbon abundance for mini-grid cross correlatio\n",
       "CCPFWHM =              867.735 / FWHM of RV CCF of star with template (km/s)    \n",
       "AUTOFWHM=              565.096 / FWHM of RV CCF of template with template (km/s)\n",
       "COMMENT VISIT 1 INFORMATION:                                                    \n",
       "SFILE1  = 'apVisit-r6-7264-56669-016.fits' / Visit #1 spectrum file             \n",
       "DATE1   = '2014-01-12T05:05:49.514' / DATE-OBS of visit 1                       \n",
       "JD1     =        2456669.73565 / Julian date of visit 1                         \n",
       "HJD1    =        56669.7407454 / Reduced Heliocentric JD of visit 1             \n",
       "FIBER1  =                   16 / Fiber, visit 1                                 \n",
       "BC1     =             -5.19855 / Barycentric correction (km/s),visit 1          \n",
       "VTYPE1  =                    3 / RV type (1=chisq, 2=xcorr) from visit 1        \n",
       "VRAD1   =              3.49125 / Doppler shift (km/s) of visit 1                \n",
       "VERR1   =              1.50219 / error in VRAD (km/s)                           \n",
       "VHELIO1 =             -1.70730 / Heliocentric velocity (km/s), visit 1          \n",
       "RVTEFF1 =              14000.0 / effective temperature (K) from visit mini-grid \n",
       "RVLOGG1 =              4.00000 / surface gravity (dex) from visit mini-grid xcor\n",
       "RVFEH1  =             -1.00000 / metallicity [Fe/H] from visit mini-grid xcorr  \n",
       "RVALPH1 =              0.00000 / alpha abundance from visit mini-grid xcorr     \n",
       "RVCARB1 =              0.00000 / carbon abundance from visit mini-grid xcorr    \n",
       "SNRVIS1 =              121.211 / Signal/Noise ratio, visit 1                    \n",
       "FLAG1   =                  512 / STARFLAG for visit 1                           \n",
       "COMMENT VISIT 2 INFORMATION:                                                    \n",
       "SFILE2  = 'apVisit-r6-7265-56671-011.fits' / Visit #2 spectrum file             \n",
       "DATE2   = '2014-01-14T05:05:40.981' / DATE-OBS of visit 2                       \n",
       "JD2     =        2456671.73555 / Julian date of visit 2                         \n",
       "HJD2    =        56671.7406072 / Reduced Heliocentric JD of visit 2             \n",
       "FIBER2  =                   11 / Fiber, visit 2                                 \n",
       "BC2     =             -6.15382 / Barycentric correction (km/s),visit 2          \n",
       "VTYPE2  =                    3 / RV type (1=chisq, 2=xcorr) from visit 2        \n",
       "VRAD2   =              64.3940 / Doppler shift (km/s) of visit 2                \n",
       "VERR2   =              1.56819 / error in VRAD (km/s)                           \n",
       "VHELIO2 =              58.2401 / Heliocentric velocity (km/s), visit 2          \n",
       "RVTEFF2 =              14000.0 / effective temperature (K) from visit mini-grid \n",
       "RVLOGG2 =              4.00000 / surface gravity (dex) from visit mini-grid xcor\n",
       "RVFEH2  =             -1.00000 / metallicity [Fe/H] from visit mini-grid xcorr  \n",
       "RVALPH2 =              0.00000 / alpha abundance from visit mini-grid xcorr     \n",
       "RVCARB2 =              0.00000 / carbon abundance from visit mini-grid xcorr    \n",
       "SNRVIS2 =              118.574 / Signal/Noise ratio, visit 2                    \n",
       "FLAG2   =                  512 / STARFLAG for visit 2                           \n",
       "COMMENT VISIT 3 INFORMATION:                                                    \n",
       "SFILE3  = 'apVisit-r6-7266-56652-021.fits' / Visit #3 spectrum file             \n",
       "DATE3   = '2013-12-26T07:15:41.872' / DATE-OBS of visit 3                       \n",
       "JD3     =        2456652.82585 / Julian date of visit 3                         \n",
       "HJD3    =        56652.8310125 / Reduced Heliocentric JD of visit 3             \n",
       "FIBER3  =                   21 / Fiber, visit 3                                 \n",
       "BC3     =              2.86375 / Barycentric correction (km/s),visit 3          \n",
       "VTYPE3  =                    3 / RV type (1=chisq, 2=xcorr) from visit 3        \n",
       "VRAD3   =              13.6962 / Doppler shift (km/s) of visit 3                \n",
       "VERR3   =              1.57360 / error in VRAD (km/s)                           \n",
       "VHELIO3 =              16.5599 / Heliocentric velocity (km/s), visit 3          \n",
       "RVTEFF3 =              14000.0 / effective temperature (K) from visit mini-grid \n",
       "RVLOGG3 =              4.00000 / surface gravity (dex) from visit mini-grid xcor\n",
       "RVFEH3  =             -1.00000 / metallicity [Fe/H] from visit mini-grid xcorr  \n",
       "RVALPH3 =              0.00000 / alpha abundance from visit mini-grid xcorr     \n",
       "RVCARB3 =              0.00000 / carbon abundance from visit mini-grid xcorr    \n",
       "SNRVIS3 =              96.0286 / Signal/Noise ratio, visit 3                    \n",
       "FLAG3   =                  512 / STARFLAG for visit 3                           \n",
       "COMMENT VISIT 4 INFORMATION:                                                    \n",
       "SFILE4  = 'apVisit-r6-7266-56656-027.fits' / Visit #4 spectrum file             \n",
       "DATE4   = '2013-12-30T06:58:55.142' / DATE-OBS of visit 4                       \n",
       "JD4     =        2456656.81418 / Julian date of visit 4                         \n",
       "HJD4    =        56656.8193683 / Reduced Heliocentric JD of visit 4             \n",
       "FIBER4  =                   27 / Fiber, visit 4                                 \n",
       "BC4     =             0.933972 / Barycentric correction (km/s),visit 4          \n",
       "VTYPE4  =                    3 / RV type (1=chisq, 2=xcorr) from visit 4        \n",
       "VRAD4   =              56.2457 / Doppler shift (km/s) of visit 4                \n",
       "VERR4   =              1.51763 / error in VRAD (km/s)                           \n",
       "VHELIO4 =              57.1796 / Heliocentric velocity (km/s), visit 4          \n",
       "RVTEFF4 =              14000.0 / effective temperature (K) from visit mini-grid \n",
       "RVLOGG4 =              4.00000 / surface gravity (dex) from visit mini-grid xcor\n",
       "RVFEH4  =             -1.00000 / metallicity [Fe/H] from visit mini-grid xcorr  \n",
       "RVALPH4 =              0.00000 / alpha abundance from visit mini-grid xcorr     \n",
       "RVCARB4 =              0.00000 / carbon abundance from visit mini-grid xcorr    \n",
       "SNRVIS4 =              98.0459 / Signal/Noise ratio, visit 4                    \n",
       "FLAG4   =                  512 / STARFLAG for visit 4                           \n",
       "RMIN    =                 6298 / Min pixel of red chip contrib, any frame       \n",
       "RMAX    =                 8372 / Maxmm pixel of red chip contrib, any frame     \n",
       "GMIN    =                 3545 / Min pixel of green chip contrib, any frame     \n",
       "GMAX    =                 6121 / Maxm pixel of green chip contrib, any frame    \n",
       "BMIN    =                  206 / Min pixel of blue chip contrib, any frame      \n",
       "BMAX    =                 3314 / Maxm pixel of blue chip contrib, any frame     \n",
       "ROVERMIN=                 6313 / Min pixel of red chip contrib, all frames      \n",
       "ROVERMAX=                 8357 / Max pixel of red chip contrib, all frames      \n",
       "GOVERMIN=                 3559 / Min pixel of green chip contrib, all frames    \n",
       "GOVERMAX=                 6107 / Max pixel of green chip contrib, all frames    \n",
       "BOVERMIN=                  220 / Minimum pixel of blue chip contrib, all frames \n",
       "BOVERMAX=                 3300 / Maximum pixel of blue chip contrib, all frames \n",
       "COMMENT Wavelength polynomial coefficients (Ang):                               \n",
       "NWAVE   =                 8575 /Number of wavelengths in subsequent HDUs        \n",
       "CRVAL1  =        4.17900000000 /Start log10(wavelength) in subsequent HDUs      \n",
       "CDELT1  =    6.00000000000E-06 /Dispersion in log10(wavelength) in subsequent HD\n",
       "CRPIX1  =                    1 /Pixel of starting wavelength in subsequent HDUs \n",
       "CTYPE1  = 'LOG-LINEAR'         /Logarithmic wavelength scale in subsequent HDUs \n",
       "DC-FLAG =                    1 /Logarithmic wavelength scale in subsequent HDUs \n",
       "HISTORY APSTAR: Mon Jan 25 16:40:31 2016                                        \n",
       "HISTORY APSTAR: apogee on kp126                                                 \n",
       "HISTORY APSTAR: IDL 8.1 linux x86_64                                            \n",
       "HISTORY APSTAR:  APOGEE Reduction Pipeline Version: v3_31                       \n",
       "HISTORY APSTAR: The data are in separate extensions:                            \n",
       "HISTORY APSTAR:  HDU0 = Header only                                             \n",
       "HISTORY APSTAR:  All image extensions have:                                     \n",
       "HISTORY APSTAR:    row 1: combined spectrum with individual pixel weighting     \n",
       "HISTORY APSTAR:    row 2: combined spectrum with global weighting               \n",
       "HISTORY APSTAR:    row 3-nvisits+2: individual resampled visit spectra          \n",
       "HISTORY APSTAR:   unless nvisits=1, which only have a single row                \n",
       "HISTORY APSTAR:  All spectra shifted to rest (vacuum) wavelength scale          \n",
       "HISTORY APSTAR:  HDU1 - Flux (10^-17 ergs/s/cm^2/Ang)                           \n",
       "HISTORY APSTAR:  HDU2 - Error (10^-17 ergs/s/cm^2/Ang)                          \n",
       "HISTORY APSTAR:  HDU3 - Flag mask:                                              \n",
       "HISTORY APSTAR:    row 1: bitwise OR of all visits                              \n",
       "HISTORY APSTAR:    row 2: bitwise AND of all visits                             \n",
       "HISTORY APSTAR:    row 3-nvisits+2: individual visit masks                      \n",
       "HISTORY APSTAR:  HDU4 - Sky (10^-17 ergs/s/cm^2/Ang)                            \n",
       "HISTORY APSTAR:  HDU5 - Sky Error (10^-17 ergs/s/cm^2/Ang)                      \n",
       "HISTORY APSTAR:  HDU6 - Telluric                                                \n",
       "HISTORY APSTAR:  HDU7 - Telluric Error                                          \n",
       "HISTORY APSTAR:  HDU8 - LSF coefficients                                        \n",
       "HISTORY APSTAR:  HDU9 - RV and CCF structure                                    "
      ]
     },
     "execution_count": 5,
     "metadata": {},
     "output_type": "execute_result"
    }
   ],
   "source": [
    "star2 = fits.open('/Volumes/coveydata-1/APOGEE_Spectra/APOGEE2_DR13/4617/apStar-r6-2M06385414-0050001.fits')\n",
    "star2[0].header"
   ]
  },
  {
   "cell_type": "code",
   "execution_count": 6,
   "metadata": {},
   "outputs": [
    {
     "data": {
      "text/plain": [
       "[0, 1, 4]"
      ]
     },
     "execution_count": 6,
     "metadata": {},
     "output_type": "execute_result"
    }
   ],
   "source": [
    "bitmask.bits_set(bitmask.apogee_target1_int('APOGEE_MDWARF')) # = 19\n",
    "#bitmask.bit_set(19, -939524096)\n",
    "bitmask.bits_set(19)"
   ]
  },
  {
   "cell_type": "markdown",
   "metadata": {},
   "source": [
    "### Opening allStar File "
   ]
  },
  {
   "cell_type": "code",
   "execution_count": 5,
   "metadata": {},
   "outputs": [],
   "source": [
    "allStar = apread.allStar(rmcommissioning=True,main=False,ak=True, akvers = 'targ', adddist=False)"
   ]
  },
  {
   "cell_type": "code",
   "execution_count": 6,
   "metadata": {
    "scrolled": false
   },
   "outputs": [
    {
     "name": "stdout",
     "output_type": "stream",
     "text": [
      "[False False False ..., False False False]\n",
      "155632\n"
     ]
    }
   ],
   "source": [
    "mdwarf_indx = bitmask.bit_set(19,allStar['APOGEE_TARGET1'])\n",
    "print(mdwarf_indx)\n",
    "\n",
    "mdwarf_index = []\n",
    "for z in range(len(mdwarf_indx)):\n",
    "    b = mdwarf_indx[z]*1\n",
    "    mdwarf_index.append(b)\n",
    "#print(mdwarf_index)\n",
    "from collections import Counter\n",
    "Counter(mdwarf_index)\n",
    "print(len(mdwarf_index))"
   ]
  },
  {
   "cell_type": "code",
   "execution_count": 7,
   "metadata": {},
   "outputs": [
    {
     "data": {
      "text/plain": [
       "Counter({False: 154882, True: 750})"
      ]
     },
     "execution_count": 7,
     "metadata": {},
     "output_type": "execute_result"
    }
   ],
   "source": [
    "from collections import Counter\n",
    "Counter(mdwarf_indx)"
   ]
  },
  {
   "cell_type": "markdown",
   "metadata": {
    "collapsed": true
   },
   "source": [
    "### With the found indicies of the M-dwarfs, find the corresponding location and apogee IDs\n",
    "\n",
    "Perhaps, we can take the array of Boolean indicies and convert them to integer values that can be plugged back into the allStar file to obtain the location ID and apogee ID.\n",
    "\n",
    "Additionally, we can extract other desired header data such as J, K, H (with their associated errors), signal-to-noise ratios, and magnitudes from WISE.\n"
   ]
  },
  {
   "cell_type": "code",
   "execution_count": 8,
   "metadata": {
    "collapsed": true
   },
   "outputs": [],
   "source": [
    "locationIDs = allStar['LOCATION_ID']\n",
    "apogeeIDs = allStar['APOGEE_ID']\n",
    "J_filter = allStar['J']\n",
    "J_filterr = allStar['J_ERR']\n",
    "H_filter = allStar['H']\n",
    "H_filterr = allStar['H_ERR']\n",
    "K_filter = allStar['K']\n",
    "K_filterr = allStar['K_ERR']\n",
    "SNRs = allStar['SNR']\n",
    "WISE_4_5 = allStar['WISE_4_5']"
   ]
  },
  {
   "cell_type": "code",
   "execution_count": 40,
   "metadata": {
    "collapsed": true
   },
   "outputs": [],
   "source": [
    "location_IDs = []\n",
    "apogee_IDs = []\n",
    "J = []\n",
    "J_err = []\n",
    "H = []\n",
    "H_err = []\n",
    "K = []\n",
    "K_err = []\n",
    "SNR = []\n",
    "wise = []\n",
    "\n",
    "\n",
    "for i in range(len(mdwarf_index)):\n",
    "    if mdwarf_index[i] == 1:\n",
    "        l = locationIDs[i]\n",
    "        a = apogeeIDs[i]\n",
    "        j = J_filter[i]\n",
    "        h = H_filter[i]\n",
    "        k = K_filter[i]\n",
    "        j_err = J_filterr[i]\n",
    "        h_err = H_filterr[i]\n",
    "        k_err = K_filterr[i]\n",
    "        s = SNRs[i]\n",
    "        w = WISE_4_5[i]\n",
    "        location_IDs.append(l)\n",
    "        apogee_IDs.append(a)\n",
    "        J.append(j)\n",
    "        H.append(h)\n",
    "        K.append(k)\n",
    "        J_err.append(j_err)\n",
    "        H_err.append(h_err)\n",
    "        K_err.append(k_err)\n",
    "        SNR.append(s)\n",
    "        wise.append(w)"
   ]
  },
  {
   "cell_type": "code",
   "execution_count": 51,
   "metadata": {},
   "outputs": [
    {
     "name": "stdout",
     "output_type": "stream",
     "text": [
      "638\n"
     ]
    }
   ],
   "source": [
    "print(len(J))"
   ]
  },
  {
   "cell_type": "code",
   "execution_count": 69,
   "metadata": {
    "collapsed": true
   },
   "outputs": [],
   "source": [
    "with open('Mdwarfs_DR13.csv','w') as csvfile:\n",
    "    names = ['Location_ID','Apogee_ID','J','J_Err','H','H_Err','K','K_Err','WISE_4_5','SNR']\n",
    "    writer = csv.DictWriter(csvfile,delimiter=',',fieldnames=names)\n",
    "    writer.writeheader()\n",
    "    for i in range(len(location_IDs)):\n",
    "        writer.writerow({'Location_ID':location_IDs[i],'Apogee_ID':apogee_IDs[i],'J':J[i],'J_Err':J_err[i],'H':H[i], 'H_Err':H_err[i],'K':K[i],'K_Err':K_err[i],'WISE_4_5':wise[i],'SNR':SNR[i]})"
   ]
  },
  {
   "cell_type": "markdown",
   "metadata": {},
   "source": [
    "### Construct Color-Color Diagrams for J-H vs. H-K"
   ]
  },
  {
   "cell_type": "code",
   "execution_count": 10,
   "metadata": {},
   "outputs": [
    {
     "data": {
      "image/png": "[encoded data removed]",
      "text/plain": [
       "<matplotlib.figure.Figure at 0x11af3f048>"
      ]
     },
     "metadata": {},
     "output_type": "display_data"
    }
   ],
   "source": [
    "jh = []\n",
    "hk = []\n",
    "\n",
    "for y in range(len(J)):\n",
    "    x = J[y] - H[y]\n",
    "    z = H[y] - K[y]\n",
    "    jh.append(x)\n",
    "    hk.append(z)\n",
    "plt.figure(figsize=(8,6))\n",
    "plt.plot(hk,jh,\"o\")\n",
    "plt.xlabel('H-K')\n",
    "plt.ylabel('J-H')\n",
    "plt.title('Color-Color Diagram for J-H vs H-K')\n",
    "plt.savefig('CC_HK_vs_JH',dpi=1000)\n",
    "plt.show()"
   ]
  },
  {
   "cell_type": "code",
   "execution_count": null,
   "metadata": {
    "collapsed": true
   },
   "outputs": [],
   "source": []
  }
 ],
 "metadata": {
  "kernelspec": {
   "display_name": "Python 3",
   "language": "python",
   "name": "python3"
  },
  "language_info": {
   "codemirror_mode": {
    "name": "ipython",
    "version": 3
   },
   "file_extension": ".py",
   "mimetype": "text/x-python",
   "name": "python",
   "nbconvert_exporter": "python",
   "pygments_lexer": "ipython3",
   "version": "3.6.1"
  }
 },
 "nbformat": 4,
 "nbformat_minor": 2
}
