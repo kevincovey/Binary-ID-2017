{
 "cells": [
  {
   "cell_type": "code",
   "execution_count": 1,
   "metadata": {
    "collapsed": true
   },
   "outputs": [],
   "source": [
    "import numpy as np\n",
    "import apogee.tools.read as apread\n",
    "import csv"
   ]
  },
  {
   "cell_type": "code",
   "execution_count": 5,
   "metadata": {
    "collapsed": true
   },
   "outputs": [],
   "source": [
    "from apogee.tools import bitmask\n",
    "from astropy.io import fits"
   ]
  },
  {
   "cell_type": "code",
   "execution_count": 32,
   "metadata": {},
   "outputs": [
    {
     "data": {
      "text/plain": [
       "[0, 1, 4]"
      ]
     },
     "execution_count": 32,
     "metadata": {},
     "output_type": "execute_result"
    }
   ],
   "source": [
    "bitmask.bits_set(bitmask.apogee_target1_int('APOGEE_MDWARF')) # = 19\n",
    "#bitmask.bit_set(19, -939524096)\n",
    "bitmask.bits_set(19)"
   ]
  },
  {
   "cell_type": "markdown",
   "metadata": {},
   "source": [
    "### Opening allStar File "
   ]
  },
  {
   "cell_type": "code",
   "execution_count": 27,
   "metadata": {},
   "outputs": [
    {
     "data": {
      "text/plain": [
       "SIMPLE  =                    T / Written by IDL:  Tue Dec 22 14:14:47 2015      \n",
       "BITPIX  =                   16 / Number of bits per data pixel                  \n",
       "NAXIS   =                    0 / Number of data axes                            \n",
       "EXTEND  =                    T / FITS data may contain extensions               \n",
       "DATE    = '2015-12-22'         / Creation UTC (CCCC-MM-DD) date of FITS header  \n",
       "COMMENT FITS (Flexible Image Transport System) format is defined in 'Astronomy  \n",
       "COMMENT and Astrophysics', volume 376, page 359; bibcode 2001A&A...376..359H    \n",
       "HISTORY APRED VERSION: apogee2                                                  \n",
       "HISTORY APSTAR VERSION: stars                                                   \n",
       "HISTORY ASPCAP VERSION: l30d                                                    \n",
       "HISTORY RESULTS VERSION: apogee2-l30d.1                                         \n",
       "HISTORY APRED SOFTWARE VERSION: v3_25                                           \n",
       "HISTORY IDLWRAP SOFTWARE VERSION: v40                                           \n",
       "HISTORY SPECLIB SOFTWARE VERSION: v16                                           \n",
       "HISTORY DATE: Tue Dec 22 14:14:48 2015                                          "
      ]
     },
     "execution_count": 27,
     "metadata": {},
     "output_type": "execute_result"
    }
   ],
   "source": [
    "#allStar = fits.open('/Volumes/coveydata-1/APOGEE_Spectra/APOGEE2_DR13/allStar-l30e.2.fits')\n",
    "allStar = fits.open('/Volumes/coveydata-1/APOGEE_Spectra/APOGEE2_DR13/allStar-apogee2-l30d.1.fits')\n",
    "allStar[0].header"
   ]
  },
  {
   "cell_type": "code",
   "execution_count": 33,
   "metadata": {},
   "outputs": [
    {
     "ename": "KeyError",
     "evalue": "\"Extension 'APOGEE_TARGET1' not found.\"",
     "output_type": "error",
     "traceback": [
      "\u001b[0;31m---------------------------------------------------------------------------\u001b[0m",
      "\u001b[0;31mKeyError\u001b[0m                                  Traceback (most recent call last)",
      "\u001b[0;32m<ipython-input-33-fd10b89c0666>\u001b[0m in \u001b[0;36m<module>\u001b[0;34m()\u001b[0m\n\u001b[0;32m----> 1\u001b[0;31m \u001b[0mmdwarf_indx\u001b[0m \u001b[0;34m=\u001b[0m \u001b[0mbitmask\u001b[0m\u001b[0;34m.\u001b[0m\u001b[0mbit_set\u001b[0m\u001b[0;34m(\u001b[0m\u001b[0;36m19\u001b[0m\u001b[0;34m,\u001b[0m\u001b[0mallStar\u001b[0m\u001b[0;34m[\u001b[0m\u001b[0;34m'APOGEE_TARGET1'\u001b[0m\u001b[0;34m]\u001b[0m\u001b[0;34m)\u001b[0m\u001b[0;34m\u001b[0m\u001b[0m\n\u001b[0m",
      "\u001b[0;32m/Users/reynaa/anaconda/lib/python3.6/site-packages/astropy/io/fits/hdu/hdulist.py\u001b[0m in \u001b[0;36m__getitem__\u001b[0;34m(self, key)\u001b[0m\n\u001b[1;32m    312\u001b[0m         \u001b[0;31m# instead\u001b[0m\u001b[0;34m\u001b[0m\u001b[0;34m\u001b[0m\u001b[0m\n\u001b[1;32m    313\u001b[0m         return self._try_while_unread_hdus(super(HDUList, self).__getitem__,\n\u001b[0;32m--> 314\u001b[0;31m                                            self._positive_index_of(key))\n\u001b[0m\u001b[1;32m    315\u001b[0m \u001b[0;34m\u001b[0m\u001b[0m\n\u001b[1;32m    316\u001b[0m     \u001b[0;32mdef\u001b[0m \u001b[0m__contains__\u001b[0m\u001b[0;34m(\u001b[0m\u001b[0mself\u001b[0m\u001b[0;34m,\u001b[0m \u001b[0mitem\u001b[0m\u001b[0;34m)\u001b[0m\u001b[0;34m:\u001b[0m\u001b[0;34m\u001b[0m\u001b[0m\n",
      "\u001b[0;32m/Users/reynaa/anaconda/lib/python3.6/site-packages/astropy/io/fits/hdu/hdulist.py\u001b[0m in \u001b[0;36m_positive_index_of\u001b[0;34m(self, key)\u001b[0m\n\u001b[1;32m    700\u001b[0m         \"\"\"\n\u001b[1;32m    701\u001b[0m \u001b[0;34m\u001b[0m\u001b[0m\n\u001b[0;32m--> 702\u001b[0;31m         \u001b[0mindex\u001b[0m \u001b[0;34m=\u001b[0m \u001b[0mself\u001b[0m\u001b[0;34m.\u001b[0m\u001b[0mindex_of\u001b[0m\u001b[0;34m(\u001b[0m\u001b[0mkey\u001b[0m\u001b[0;34m)\u001b[0m\u001b[0;34m\u001b[0m\u001b[0m\n\u001b[0m\u001b[1;32m    703\u001b[0m \u001b[0;34m\u001b[0m\u001b[0m\n\u001b[1;32m    704\u001b[0m         \u001b[0;32mif\u001b[0m \u001b[0mindex\u001b[0m \u001b[0;34m>=\u001b[0m \u001b[0;36m0\u001b[0m\u001b[0;34m:\u001b[0m\u001b[0;34m\u001b[0m\u001b[0m\n",
      "\u001b[0;32m/Users/reynaa/anaconda/lib/python3.6/site-packages/astropy/io/fits/hdu/hdulist.py\u001b[0m in \u001b[0;36mindex_of\u001b[0;34m(self, key)\u001b[0m\n\u001b[1;32m    681\u001b[0m \u001b[0;34m\u001b[0m\u001b[0m\n\u001b[1;32m    682\u001b[0m         \u001b[0;32mif\u001b[0m \u001b[0;34m(\u001b[0m\u001b[0mfound\u001b[0m \u001b[0;32mis\u001b[0m \u001b[0;32mNone\u001b[0m\u001b[0;34m)\u001b[0m\u001b[0;34m:\u001b[0m\u001b[0;34m\u001b[0m\u001b[0m\n\u001b[0;32m--> 683\u001b[0;31m             \u001b[0;32mraise\u001b[0m \u001b[0mKeyError\u001b[0m\u001b[0;34m(\u001b[0m\u001b[0;34m'Extension {} not found.'\u001b[0m\u001b[0;34m.\u001b[0m\u001b[0mformat\u001b[0m\u001b[0;34m(\u001b[0m\u001b[0mrepr\u001b[0m\u001b[0;34m(\u001b[0m\u001b[0mkey\u001b[0m\u001b[0;34m)\u001b[0m\u001b[0;34m)\u001b[0m\u001b[0;34m)\u001b[0m\u001b[0;34m\u001b[0m\u001b[0m\n\u001b[0m\u001b[1;32m    684\u001b[0m         \u001b[0;32melse\u001b[0m\u001b[0;34m:\u001b[0m\u001b[0;34m\u001b[0m\u001b[0m\n\u001b[1;32m    685\u001b[0m             \u001b[0;32mreturn\u001b[0m \u001b[0mfound\u001b[0m\u001b[0;34m\u001b[0m\u001b[0m\n",
      "\u001b[0;31mKeyError\u001b[0m: \"Extension 'APOGEE_TARGET1' not found.\""
     ]
    }
   ],
   "source": [
    "mdwarf_indx = bitmask.bit_set(19,allStar['APOGEE_TARGET1'])"
   ]
  },
  {
   "cell_type": "code",
   "execution_count": 15,
   "metadata": {},
   "outputs": [
    {
     "data": {
      "text/plain": [
       "{0: 'APOGEE_FAINT',\n",
       " 1: 'APOGEE_MEDIUM',\n",
       " 2: 'APOGEE_BRIGHT',\n",
       " 3: 'APOGEE_IRAC_DERED',\n",
       " 4: 'APOGEE_WISE_DERED',\n",
       " 5: 'APOGEE_SFD_DERED',\n",
       " 6: 'APOGEE_NO_DERED',\n",
       " 7: 'APOGEE_WASH_GIANT',\n",
       " 8: 'APOGEE_WASH_DWARF',\n",
       " 9: 'APOGEE_SCI_CLUSTER',\n",
       " 10: 'APOGEE_EXTENDED',\n",
       " 11: 'APOGEE_SHORT',\n",
       " 12: 'APOGEE_INTERMEDIATE',\n",
       " 13: 'APOGEE_LONG',\n",
       " 15: 'APOGEE_SERENDIPITOUS',\n",
       " 16: 'APOGEE_FIRST_LIGHT',\n",
       " 17: 'APOGEE_ANCILLARY',\n",
       " 18: 'APOGEE_M31_CLUSTER',\n",
       " 19: 'APOGEE_MDWARF',\n",
       " 20: 'APOGEE_HIRES',\n",
       " 21: 'APOGEE_OLD_STAR',\n",
       " 22: 'APOGEE_DISK_RED_GIANT',\n",
       " 23: 'APOGEE_KEPLER_EB',\n",
       " 24: 'APOGEE_GC_PAL1',\n",
       " 25: 'APOGEE_MASSIVE_STAR',\n",
       " 26: 'APOGEE_SGR_DSPH',\n",
       " 27: 'APOGEE_KEPLER_SEISMO',\n",
       " 28: 'APOGEE_KEPLER_HOST',\n",
       " 29: 'APOGEE_FAINT_EXTRA',\n",
       " 30: 'APOGEE_SEGUE_OVERLAP',\n",
       " 31: 'APOGEE_CHECKED'}"
      ]
     },
     "execution_count": 15,
     "metadata": {},
     "output_type": "execute_result"
    }
   ],
   "source": [
    "bitmask.APOGEE_TARGET1"
   ]
  },
  {
   "cell_type": "code",
   "execution_count": null,
   "metadata": {
    "collapsed": true
   },
   "outputs": [],
   "source": []
  }
 ],
 "metadata": {
  "kernelspec": {
   "display_name": "Python 3",
   "language": "python",
   "name": "python3"
  },
  "language_info": {
   "codemirror_mode": {
    "name": "ipython",
    "version": 3
   },
   "file_extension": ".py",
   "mimetype": "text/x-python",
   "name": "python",
   "nbconvert_exporter": "python",
   "pygments_lexer": "ipython3",
   "version": "3.6.1"
  }
 },
 "nbformat": 4,
 "nbformat_minor": 2
}
