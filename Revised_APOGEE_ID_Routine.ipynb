{
 "cells": [
  {
   "cell_type": "code",
   "execution_count": 1,
   "metadata": {
    "collapsed": true
   },
   "outputs": [],
   "source": [
    "import numpy as np\n",
    "import apogee.tools.read as apread\n",
    "from matplotlib import pyplot as plt\n",
    "import pandas as pd\n",
    "import csv\n",
    "from apogee.tools import bitmask\n",
    "import math"
   ]
  },
  {
   "cell_type": "code",
   "execution_count": 2,
   "metadata": {
    "collapsed": true
   },
   "outputs": [],
   "source": [
    "def calcR(x,pos1,pos2):\n",
    "    ccfCenter = max(x)\n",
    "    primary = np.where(x == ccfCenter)\n",
    "    peak_loc = primary[0][0]\n",
    "    #print(type(peak_loc))\n",
    "    #pos1+= 1\n",
    "    Mirror = (x[peak_loc:pos2])[::-1]\n",
    "    #Mirror = (x[ccfCenter:pos2])[::-1]\n",
    "    sigmaA = np.sqrt(1.0 / (2.0 * len(Mirror)) * np.sum((x[pos1:peak_loc] - Mirror)**2))\n",
    "    r = np.max(x) / (np.sqrt(2.0) * sigmaA)\n",
    "    print(r)\n",
    "    return r"
   ]
  },
  {
   "cell_type": "markdown",
   "metadata": {},
   "source": [
    "### Notes:\n",
    "    The calls to calculate R had to be reduced by a value of 1. This is because the reflected array and the other half of the array were reported to have two different sizes therefore could not be boradcasted together. We will either need to justify this or seek the issue that caused the two to be of varying lengths in the first place."
   ]
  },
  {
   "cell_type": "code",
   "execution_count": 3,
   "metadata": {
    "collapsed": true
   },
   "outputs": [],
   "source": [
    "def bisector(xccf,yccf):\n",
    "    height = max(yccf) - min(yccf)\n",
    "    slices = height/4.0\n",
    "    bounds = np.arange(min(yccf),height,slices)\n",
    "    if len(bounds) != 0:\n",
    "        z1 = (bounds[0] + bounds[1])/2.0\n",
    "        z2 = (bounds[1] + bounds[2])/2.0\n",
    "        z3 = (bounds[2] + bounds[3])/2.0\n",
    "        z4 = (bounds[3] + bounds[4])/2.0\n",
    "        y_bisector = np.array([z1,z2,z3,z4])\n",
    "\n",
    "        x_bisector = []\n",
    "        x0 = []\n",
    "        x1 = []\n",
    "        x2 = []\n",
    "        x3 = []\n",
    "        for i in range(len(yccf)):\n",
    "            if yccf[i] <= bounds[4] and yccf[i] > bounds[3]:\n",
    "                x0.append(xccf[i])\n",
    "        x_0 = (np.mean(x0))\n",
    "        x_bisector.append(x_0)\n",
    "\n",
    "        i = 0\n",
    "        for i in range(len(yccf)):\n",
    "            if yccf[i] <= bounds[3] and yccf[i] >= bounds[2]:\n",
    "                x1.append(xccf[i])\n",
    "        x_1=(np.mean(x1))\n",
    "        x_bisector.append(x_1)\n",
    "\n",
    "        i = 0\n",
    "        for i in range(len(yccf)):\n",
    "            if yccf[i] <= bounds[2] and yccf[i] >= bounds[1]:\n",
    "                x2.append(xccf[i])\n",
    "        x_2=(np.mean(x2))\n",
    "        x_bisector.append(x_2)\n",
    "\n",
    "        i = 0\n",
    "        for i in range(len(yccf)):\n",
    "            if yccf[i] <= bounds[1] and yccf[i] >= bounds[0]:\n",
    "                x3.append(xccf[i])\n",
    "        x_3=(np.mean(x3))\n",
    "        x_bisector.append(x_3)\n",
    "\n",
    "        bisector_pts = np.vstack([x_bisector,y_bisector])\n",
    "        #print(bisector_pts)\n",
    "        return(bisector_pts)\n",
    "    #else:\n",
    "        #x_bisector = 0.0\n",
    "        #y_bisector = 0.0\n",
    "        #error = np.vstack([x_bisector,y_bisector])\n",
    "        return(error)"
   ]
  },
  {
   "cell_type": "code",
   "execution_count": 4,
   "metadata": {
    "collapsed": true
   },
   "outputs": [],
   "source": [
    "def xrange(x_bisector):\n",
    "    #print(x_bisector)\n",
    "    xr = max(x_bisector) - min(x_bisector)\n",
    "    return xr"
   ]
  },
  {
   "cell_type": "markdown",
   "metadata": {},
   "source": [
    "## Notes\n",
    "\n",
    "We will need to save r151, r101, r401 and r401 as arrays that contain these values for all visits of a given star. From each visit, we need to find the smallest r values. Additionally, we will need to find the largest max x-range.\n",
    "\n"
   ]
  },
  {
   "cell_type": "code",
   "execution_count": 5,
   "metadata": {
    "collapsed": true
   },
   "outputs": [],
   "source": [
    "#Calculate the R-ratios for the likely_binary function\n",
    "def r_ratio(r51,r151,r101):\n",
    "        r1_ratio = r151/r101\n",
    "        r2_ratio = r101/r51\n",
    "        R1_ratio = math.log10(r1_ratio)\n",
    "        R2_ratio = math.log10(r2_ratio)\n",
    "        ratios = [round(R1_ratio,3),round(R2_ratio,3)]\n",
    "        return ratios"
   ]
  },
  {
   "cell_type": "code",
   "execution_count": 6,
   "metadata": {
    "collapsed": true
   },
   "outputs": [],
   "source": [
    "#def idSB2s(CCF,xr,r51,r151,r101): # cuts to identify SB2s\n",
    "    #min_r51 = min(r51)\n",
    "    #min_r101 = min(r101)\n",
    "    #min_r151 = min(r151)\n",
    "    #peak_401 = max(CCF) - min(CCF)\n",
    "    #max_xr = max(xr)\n",
    "def idSB2s(R1_ratio, R2_ratio,r51,r151,r101,xr): # cuts to identify SB2s from Kevin's IDL Routine\n",
    "    min_r51 = r51\n",
    "    min_r101 = r101\n",
    "    min_r151 = r151\n",
    "    r1_ratio = R1_ratio\n",
    "    r2_ratio = R2_ratio\n",
    "    max_xr = xr\n",
    "    \n",
    "    likely_sb2s = np.where((math.log10(r1_ratio) > 0.06 and (math.log10(r1_ratio) < 0.13 and \n",
    "                            math.log10(min_r101) < 0.83)) or (math.log10(r2_ratio) > 0.05 and \n",
    "                            math.log10(r2_ratio) < 0.02 and math.log10(min_r51) < 0.83) and\n",
    "                            math.log10(min_r51) > 0.25 and math.log10(min_r101) > 0.22 and\n",
    "                            math.log10(peak_401) > -0.5 and math.log10(max_xr) < 2.3 and \n",
    "                            math.log10(max_xr) > 0.7\n",
    "                          )\n",
    "    return likely_sb2s"
   ]
  },
  {
   "cell_type": "code",
   "execution_count": 7,
   "metadata": {
    "collapsed": true
   },
   "outputs": [],
   "source": [
    "from astropy.io import fits"
   ]
  },
  {
   "cell_type": "code",
   "execution_count": null,
   "metadata": {
    "collapsed": true
   },
   "outputs": [],
   "source": [
    "allStarDR14 = apread.allStar(rmcommissioning=False,main=False,ak=True,akvers='targ',adddist=False)\n",
    "\n",
    "locationIDs = allStarDR14['LOCATION_ID']\n",
    "apogeeIDs = allStarDR14['APOGEE_ID']\n",
    "apogeeIDs = [s.decode('utf-8') for s in apogeeIDs]"
   ]
  },
  {
   "cell_type": "code",
   "execution_count": null,
   "metadata": {
    "collapsed": true
   },
   "outputs": [],
   "source": [
    "import os.path\n",
    "from pathlib import Path\n",
    "\n",
    "for i in range(100):\n",
    "    locationID = locationIDs[i]\n",
    "    apogeeID = apogeeIDs[i]\n",
    "    my_file = Path('/Volumes/coveydata-5/APOGEE_Spectra/APOGEE2_DR14/dr14/apogee/spectro/redux/r8/stars/apo25m/'+str(locationID)+'/'+'apStar-r8-'+str(apogeeID)+'.fits')\n",
    "    #if my_file.is_file():\n",
    "        #path = '/Volumes/coveydata-5/APOGEE_Spectra/APOGEE2_DR14/dr14/apogee/spectro/redux/r8/stars/apo25m/'+str(locationID)+'/'+'apStar-r8-'+str(apogeeID)+'.fits'\n",
    "    try:\n",
    "        asb_path = my_file.resolve()\n",
    "    except FileNotFoundError:\n",
    "        path = '/Volumes/coveydata-5/APOGEE_Spectra/APOGEE2_DR14/dr14/apogee/spectro/redux/r8/stars/apo25m/'+str(locationID)+'/'+'apStarC-r8-'+str(apogeeID)+'.fits'\n",
    "    else:\n",
    "        path = '/Volumes/coveydata-5/APOGEE_Spectra/APOGEE2_DR14/dr14/apogee/spectro/redux/r8/stars/apo25m/'+str(locationID)+'/'+'apStar-r8-'+str(apogeeID)+'.fits'\n",
    "\n",
    "    data = fits.open(path)\n",
    "    point = data[9]\n",
    "    xccf = point.data[0][32]\n",
    "    CCF = point.data[0][27]\n",
    "    HDU0 = fits.getheader(path,0)\n",
    "    nvisits = HDU0['NVISITS']\n",
    "    for visit in range(0,nvisits):\n",
    "        if nvisits != 1:\n",
    "            ccf = CCF[visit+2]\n",
    "            nonzeroes = np.count_nonzero(ccf) # This condition is meant to eliminate visits that are empty\n",
    "            if nonzeroes >= 1:\n",
    "                bs_pt = bisector(xccf, ccf)\n",
    "                x_range = xrange(bs_pt[0])\n",
    "                print('--Visit '+str(visit)+'--')\n",
    "                R401 = calcR(ccf,0,400)\n",
    "                R151 = calcR(ccf,125,275)\n",
    "                R101 = calcR(ccf,150,250)\n",
    "                R51 = calcR(ccf,175,225)\n",
    "                Ratios = r_ratio(R51,R151,R101)\n",
    "                r1 = Ratios[0]\n",
    "                r2 = Ratios[1]\n",
    "                #plt.plot(ccf,label='Visit '+str(visit))\n",
    "                #plt.legend(loc='upper right')\n",
    "                #plt.show()\n",
    "        "
   ]
  }
 ],
 "metadata": {
  "kernelspec": {
   "display_name": "Python 3",
   "language": "python",
   "name": "python3"
  },
  "language_info": {
   "codemirror_mode": {
    "name": "ipython",
    "version": 3
   },
   "file_extension": ".py",
   "mimetype": "text/x-python",
   "name": "python",
   "nbconvert_exporter": "python",
   "pygments_lexer": "ipython3",
   "version": "3.6.1"
  }
 },
 "nbformat": 4,
 "nbformat_minor": 2
}
