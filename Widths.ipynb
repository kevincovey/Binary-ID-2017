{
 "cells": [
  {
   "cell_type": "code",
   "execution_count": 1,
   "metadata": {
    "collapsed": true
   },
   "outputs": [],
   "source": [
    "import pandas as pd\n",
    "import numpy as np\n",
    "from matplotlib import pyplot as plt"
   ]
  },
  {
   "cell_type": "code",
   "execution_count": 2,
   "metadata": {
    "collapsed": true
   },
   "outputs": [],
   "source": [
    "x = pd.read_csv('DR14_10Binaries.csv',delimiter='\\t',usecols=[9,10,11,12,13,14,15,16,17,18,19,20,21,22,23,\n",
    "                                                              24,25,26,27,28,29,30,31,32,33,34,35,36,37,38,39,\n",
    "                                                             40,41,42,43,44,45,46,47,48,49,50,51,52,53,54,55,56,\n",
    "                                                             57,58,59,60,61,62,63,64,65,66,67,68,69,70,71,72,73,74,\n",
    "                                                             75,76,77,78,79,80,81,82,83,84,85,86,87,88,89,90,91,92,\n",
    "                                                             93,94,95,96,97,98,99,100,101,102,103,104,105,106,107,108,\n",
    "                                                             109,110,111,112,113,114,115,116,117,118,119,120,121,122,123,\n",
    "                                                              124,125,126,127,128,129,130,131,132,133,134,135,136,137,138,139,\n",
    "                                                             140,141,142,143,144,145,146,147,148,149,150,151,152,153,154,155,156,\n",
    "                                                             157,158,159,160,161,162,163,164,165,166,167,168,169,170,171,172,173,174,\n",
    "                                                             175,176,177,178,179,180,181,182,183,184,185,186,187,188,189,190,191,192,\n",
    "                                                             193,194,195,196,197,198,199,200,201,202,203,204,205,206,207,208,209,\n",
    "                                                              210,211,212,213,214,215,216,217,218,219,220,221,222,223,\n",
    "                                                              224,225,226,227,228,229,230,231,232,233,234,235,236,237,238,239,\n",
    "                                                             240,241,242,243,244,245,246,247,248,249,250,251,252,253,254,255,256,\n",
    "                                                             257,258,259,260,261,262,263,264,265,266,267,268,269,270,271,272,273,274,\n",
    "                                                             275,276,277,278,279,280,281,282,283,284,285,286,287,288,289,290,291,292,\n",
    "                                                             293,294,295,296,297,298,299,300,301,302,303,304,305,306,307,308,\n",
    "                                                             309,310,311,312,313,314,315,316,317,318,319,320,321,322,323,\n",
    "                                                              324,325,326,327,328,329,330,331,332,333,334,335,336,337,338,339,\n",
    "                                                             340,341,342,343,344,345,346,347,348,349,350,351,352,353,354,355,356,\n",
    "                                                             357,358,359,360,361,362,363,364,365,366,367,368,369,370,371,372,373,374,\n",
    "                                                             375,376,377,378,379,380,381,382,383,384,385,386,387,388,389,390,391,392,\n",
    "                                                             393,394,395,396,397,398,399,400], nrows=2,header=None)#,nrows=1)"
   ]
  },
  {
   "cell_type": "code",
   "execution_count": 3,
   "metadata": {
    "collapsed": true
   },
   "outputs": [],
   "source": [
    "ccf_whole = np.array(x)"
   ]
  },
  {
   "cell_type": "code",
   "execution_count": 4,
   "metadata": {
    "collapsed": true
   },
   "outputs": [],
   "source": [
    "ccf = ccf_whole[1]"
   ]
  },
  {
   "cell_type": "code",
   "execution_count": 5,
   "metadata": {
    "collapsed": true
   },
   "outputs": [],
   "source": [
    "CCF = []\n",
    "for i in range(len(ccf)):\n",
    "    element = ccf[i].strip('')\n",
    "    CCF.append(element)"
   ]
  },
  {
   "cell_type": "code",
   "execution_count": 25,
   "metadata": {
    "collapsed": true
   },
   "outputs": [],
   "source": [
    "CCF = np.array(CCF)"
   ]
  },
  {
   "cell_type": "code",
   "execution_count": 27,
   "metadata": {},
   "outputs": [
    {
     "name": "stdout",
     "output_type": "stream",
     "text": [
      "<class 'numpy.ndarray'>\n",
      "392\n"
     ]
    }
   ],
   "source": [
    "print(type(CCF))\n",
    "print(CCF.size)"
   ]
  },
  {
   "cell_type": "code",
   "execution_count": 8,
   "metadata": {
    "collapsed": true,
    "scrolled": false
   },
   "outputs": [],
   "source": [
    "xccf = np.arange(0,392,1)\n",
    "xccf2 = np.arange(0,401,0.5)"
   ]
  },
  {
   "cell_type": "code",
   "execution_count": 28,
   "metadata": {
    "collapsed": true
   },
   "outputs": [],
   "source": [
    "xccf = np.array(xccf)"
   ]
  },
  {
   "cell_type": "code",
   "execution_count": 9,
   "metadata": {},
   "outputs": [
    {
     "data": {
      "image/png": "[encoded data removed]",
      "text/plain": [
       "<matplotlib.figure.Figure at 0x7f1615e242b0>"
      ]
     },
     "metadata": {},
     "output_type": "display_data"
    }
   ],
   "source": [
    "plt.plot(xccf,CCF,'o')\n",
    "plt.plot(xccf,CCF)\n",
    "plt.show()"
   ]
  },
  {
   "cell_type": "code",
   "execution_count": 21,
   "metadata": {},
   "outputs": [],
   "source": [
    "#print(max(CCF), min(CCF))"
   ]
  },
  {
   "cell_type": "code",
   "execution_count": 52,
   "metadata": {},
   "outputs": [
    {
     "name": "stdout",
     "output_type": "stream",
     "text": [
      "392\n"
     ]
    }
   ],
   "source": [
    "ccfs = CCF.astype(np.float)[0]\n",
    "XCCF = xccf.astype(np.float)[0]\n",
    "print(len(ccfs))"
   ]
  },
  {
   "cell_type": "code",
   "execution_count": 65,
   "metadata": {},
   "outputs": [
    {
     "name": "stdout",
     "output_type": "stream",
     "text": [
      "<class 'list'>\n"
     ]
    }
   ],
   "source": [
    "sortCCF = []\n",
    "\n",
    "for i in range(len(ccfs)):\n",
    "    if i < 391:\n",
    "        point = (ccfs[i+1] - ccfs[i])/(XCCF[i+1]-XCCF[i])\n",
    "        #print(point)\n",
    "        sortCCF.append(point)\n",
    "    else:\n",
    "        break\n",
    "print(type(sortCCF))"
   ]
  },
  {
   "cell_type": "code",
   "execution_count": 66,
   "metadata": {},
   "outputs": [],
   "source": [
    "sortCCF = np.array(sortCCF)\n",
    "finerCCF = sortCCF.astype(np.float)"
   ]
  },
  {
   "cell_type": "code",
   "execution_count": 68,
   "metadata": {},
   "outputs": [
    {
     "name": "stdout",
     "output_type": "stream",
     "text": [
      "783\n"
     ]
    }
   ],
   "source": [
    "finerccfs = np.concatenate((ccfs,finerCCF),axis=0)\n",
    "print(len(finerccfs))"
   ]
  },
  {
   "cell_type": "code",
   "execution_count": 76,
   "metadata": {},
   "outputs": [],
   "source": [
    "xs = np.arange(0,392,0.5)\n",
    "xs = xs[0:783]"
   ]
  },
  {
   "cell_type": "code",
   "execution_count": 78,
   "metadata": {},
   "outputs": [
    {
     "data": {
      "image/png": "[encoded data removed]",
      "text/plain": [
       "<matplotlib.figure.Figure at 0x7f1615bae6a0>"
      ]
     },
     "metadata": {},
     "output_type": "display_data"
    }
   ],
   "source": [
    "plt.plot(xs,finerccfs)\n",
    "plt.plot(xs,finerccfs,'o')\n",
    "plt.show()"
   ]
  },
  {
   "cell_type": "code",
   "execution_count": 86,
   "metadata": {
    "collapsed": true
   },
   "outputs": [],
   "source": [
    "def inflect_pts(CCF):\n",
    "    peak = np.argmax(CCF)\n",
    "    pos1, pos2 = -1,-1\n",
    "    pos3 = -1\n",
    "    for i in range(peak,len(CCF)-1):\n",
    "        if (CCF[i+1] - CCF[i] > 0):\n",
    "            pos1 = i\n",
    "            break\n",
    "    for i in range(peak, 1,-1):\n",
    "        if (CCF[i-1] - CCF[i] > 0):\n",
    "            pos2 = i\n",
    "            break\n",
    "    for i in range(peak,len(CCF)-1):\n",
    "        if (CCF[i-1] > CCF[i]) and (CCF[i+1] > CCF[i]):\n",
    "            pos3 = i \n",
    "            break\n",
    "    return pos1, pos2, pos3"
   ]
  },
  {
   "cell_type": "markdown",
   "metadata": {},
   "source": [
    "### Another way to Interpolate"
   ]
  },
  {
   "cell_type": "code",
   "execution_count": 81,
   "metadata": {
    "collapsed": true
   },
   "outputs": [],
   "source": [
    "from scipy import interpolate\n",
    "\n",
    "def finerpts(x,y):\n",
    "    x_pts = np.array(x)\n",
    "    y_pts = np.array(y)\n",
    "    \n",
    "    mark = interpolate.splrep(x_pts,y_pts)\n",
    "    finerccf = interpolate.splev(x,mark)\n",
    "    \n",
    "    return finerccf\n",
    "    "
   ]
  },
  {
   "cell_type": "code",
   "execution_count": 82,
   "metadata": {},
   "outputs": [],
   "source": [
    "finerccfs = finerpts(XCCF,ccfs)"
   ]
  },
  {
   "cell_type": "code",
   "execution_count": 86,
   "metadata": {},
   "outputs": [
    {
     "name": "stdout",
     "output_type": "stream",
     "text": [
      "392\n"
     ]
    }
   ],
   "source": [
    "print(len(finerccfs))"
   ]
  },
  {
   "cell_type": "code",
   "execution_count": 88,
   "metadata": {},
   "outputs": [
    {
     "data": {
      "image/png": "[encoded data removed]",
      "text/plain": [
       "<matplotlib.figure.Figure at 0x7f160e2df128>"
      ]
     },
     "metadata": {},
     "output_type": "display_data"
    }
   ],
   "source": [
    "plt.plot(XCCF,finerccfs,'o')\n",
    "plt.plot(XCCF,finerccfs)\n",
    "plt.show()"
   ]
  },
  {
   "cell_type": "code",
   "execution_count": 96,
   "metadata": {},
   "outputs": [],
   "source": [
    "def width(x,y):  \n",
    "    ccfmax = max(y)\n",
    "    ccf_half = ccfmax/2.0\n",
    "    print(ccf_half)\n",
    "\n",
    "    peak_loc = np.where(y == ccfmax)\n",
    "    half_loc = np.where(y == ccf_half)\n",
    "    print(peak_loc, half_loc)"
   ]
  },
  {
   "cell_type": "code",
   "execution_count": 97,
   "metadata": {},
   "outputs": [
    {
     "name": "stdout",
     "output_type": "stream",
     "text": [
      "0.253044\n",
      "(array([199]),) (array([], dtype=int64),)\n"
     ]
    }
   ],
   "source": [
    "fwhm = width(XCCF,ccfs)"
   ]
  },
  {
   "cell_type": "code",
   "execution_count": null,
   "metadata": {
    "collapsed": true
   },
   "outputs": [],
   "source": []
  }
 ],
 "metadata": {
  "kernelspec": {
   "display_name": "Python 3",
   "language": "python",
   "name": "python3"
  },
  "language_info": {
   "codemirror_mode": {
    "name": "ipython",
    "version": 3
   },
   "file_extension": ".py",
   "mimetype": "text/x-python",
   "name": "python",
   "nbconvert_exporter": "python",
   "pygments_lexer": "ipython3",
   "version": "3.6.1"
  }
 },
 "nbformat": 4,
 "nbformat_minor": 2
}
